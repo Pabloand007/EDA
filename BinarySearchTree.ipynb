{
  "nbformat": 4,
  "nbformat_minor": 0,
  "metadata": {
    "colab": {
      "name": "BinarySearchTree.ipynb",
      "provenance": [],
      "collapsed_sections": [],
      "include_colab_link": true
    },
    "kernelspec": {
      "name": "python3",
      "display_name": "Python 3"
    }
  },
  "cells": [
    {
      "cell_type": "markdown",
      "metadata": {
        "id": "view-in-github",
        "colab_type": "text"
      },
      "source": [
        "<a href=\"https://colab.research.google.com/github/isegura/EDA/blob/master/BinarySearchTree.ipynb\" target=\"_parent\"><img src=\"https://colab.research.google.com/assets/colab-badge.svg\" alt=\"Open In Colab\"/></a>"
      ]
    },
    {
      "cell_type": "markdown",
      "metadata": {
        "id": "MFnhC5wWRy59"
      },
      "source": [
        "# Binary Search Trees\n"
      ]
    },
    {
      "cell_type": "markdown",
      "metadata": {
        "id": "H56HHTfVa6Ri"
      },
      "source": [
        "Firstly, we should import the classes BinaryNode and Node."
      ]
    },
    {
      "cell_type": "code",
      "metadata": {
        "id": "-VkD3untR8yi",
        "colab": {
          "resources": {
            "http://localhost:8080/nbextensions/google.colab/files.js": {
              "data": "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",
              "ok": true,
              "headers": [
                [
                  "content-type",
                  "application/javascript"
                ]
              ],
              "status": 200,
              "status_text": ""
            }
          },
          "base_uri": "https://localhost:8080/",
          "height": 73
        },
        "outputId": "8288617d-035e-43db-903b-26cccb38c340"
      },
      "source": [
        "from google.colab import files\n",
        "src = list(files.upload().values())[0]\n"
      ],
      "execution_count": 1,
      "outputs": [
        {
          "output_type": "display_data",
          "data": {
            "text/html": [
              "\n",
              "     <input type=\"file\" id=\"files-8efd7b37-d742-4ce2-8ace-2e91f7d9ee6c\" name=\"files[]\" multiple disabled\n",
              "        style=\"border:none\" />\n",
              "     <output id=\"result-8efd7b37-d742-4ce2-8ace-2e91f7d9ee6c\">\n",
              "      Upload widget is only available when the cell has been executed in the\n",
              "      current browser session. Please rerun this cell to enable.\n",
              "      </output>\n",
              "      <script src=\"/nbextensions/google.colab/files.js\"></script> "
            ],
            "text/plain": [
              "<IPython.core.display.HTML object>"
            ]
          },
          "metadata": {
            "tags": []
          }
        },
        {
          "output_type": "stream",
          "text": [
            "Saving binarytree.py to binarytree.py\n"
          ],
          "name": "stdout"
        }
      ]
    },
    {
      "cell_type": "code",
      "metadata": {
        "id": "SkNp5noERDaR"
      },
      "source": [
        "from binarytree import BinaryTree\n",
        "from binarytree import Node\n",
        "\n",
        "class BinarySearchTree(BinaryTree):\n",
        "  \n",
        "    def search(self,x):\n",
        "        \"\"\"Returns True if x exists into the True, eoc False\"\"\"\n",
        "        return self._searchNode(self._root,x)\n",
        "\n",
        "    def _searchNode(self,node,x):\n",
        "        \"\"\"Método recursivo\"\"\"\n",
        "\n",
        "        if node==None:\n",
        "            return False\n",
        "\n",
        "        if node.elem==x:\n",
        "            return True\n",
        "        \n",
        "        if x<node.elem:\n",
        "            return self._searchNode(node.left,x)\n",
        "\n",
        "        if x>node.elem:\n",
        "            return self._searchNode(node.right,x)\n",
        "\n",
        "    def find(self,x):\n",
        "        \"\"\"Returns True if x exists into the True, eoc False\"\"\"\n",
        "        return self._find(self._root,x)\n",
        "\n",
        "    def _find(self,node,x):\n",
        "        \"\"\"Método recursivo devuelve el no\"\"\"\n",
        "        if node==None:\n",
        "            return None\n",
        "        if node.elem==x:\n",
        "            return node\n",
        "        if x<node.elem:\n",
        "            return self._find(node.left,x)\n",
        "        if x>node.elem:\n",
        "            return self._find(node.right,x)\n",
        "        \n",
        "    def insert(self,x):\n",
        "        \"\"\"inserts a new node, with element x, into the tree\"\"\"\n",
        "        if self._root == None:\n",
        "            self._root=Node(x)\n",
        "        else:\n",
        "            self._insertNode(self._root,x)\n",
        "\n",
        "    def _insertNode(self,node,x):\n",
        "        \"\"\"método recursivo\"\"\"\n",
        "        if node.elem==x:\n",
        "            print('Error: la clave {} ya existe. No permitimos duplicados'.format(x))\n",
        "        else:\n",
        "            if x<node.elem:\n",
        "                if node.left==None:\n",
        "                    #ya he encontrado su sitio\n",
        "                    newNode=Node(x)\n",
        "                    newNode.parent=node\n",
        "                    node.left=newNode\n",
        "                else:\n",
        "                    self._insertNode(node.left,x)\n",
        "\n",
        "            else: #x>node.elem\n",
        "\n",
        "                if node.right==None:\n",
        "                    #ya he encontrado la posición\n",
        "                    newNode=Node(x)\n",
        "                    newNode.parent=node\n",
        "                    node.right=newNode\n",
        "                else:\n",
        "                    self._insertNode(node.right,x)\n",
        "\n",
        "    def remove(self,x):\n",
        "        \"\"\"Searches and removes the node whose element is x\"\"\"\n",
        "        node=self.find(x)\n",
        "        if node == None:\n",
        "            print(x,' does not exist!!!')\n",
        "            return\n",
        "        \n",
        "        print('removing ', x)\n",
        "        self._removeNode(node)\n",
        "  \n",
        "    def _removeNode(self,node):    \n",
        "        \"\"\"Auxiliary method to remove the node which takes as parameter\"\"\"\n",
        "        #First case: no children\n",
        "        if node.left==None and node.right==None:\n",
        "            print(\"soy una hoja\")\n",
        "            if node.parent==None: #!None\n",
        "                self._root=None #árbol  está vacío\n",
        "            elif node.parent.left==node: #hijo izquierdo del padre:\n",
        "                node.parent.left=None\n",
        "            elif node.parent.right==node: #hijo derecho del padre:\n",
        "                node.parent.right=None\n",
        "            \n",
        "            node.parent=None\n",
        "        #Second case: only one child, the left child\n",
        "        elif node.right==None and node.left!=None:\n",
        "            abuelo=node.parent\n",
        "            nieto=node.left\n",
        "            if abuelo==None:\n",
        "                self._root=nieto\n",
        "            elif abuelo.left==node:\n",
        "                abuelo.left=nieto\n",
        "            else: #abuelo.right==node: #node era el hijo dro de abuelo\n",
        "                abuelo.right=nieto\n",
        "            \n",
        "            nieto.parent=abuelo\n",
        "            \n",
        "        #Second case: only one child, the right child\n",
        "        elif node.left==None and node.right!=None:\n",
        "            abuelo=node.parent\n",
        "            nieto=node.right\n",
        "            if abuelo==None:\n",
        "                self._root=nieto\n",
        "            elif node == abuelo.left:\n",
        "                abuelo.left=nieto\n",
        "            else:# node == abuelo.right:\n",
        "                abuelo.right=nieto\n",
        "            nieto.parent=abuelo\n",
        "\n",
        "        else:                \n",
        "            #Third case: two children\n",
        "            successor=node.right\n",
        "            while successor.left!=None:\n",
        "                successor=successor.left\n",
        "                    \n",
        "            #we replace the node's elem by the successor's elem\n",
        "            node.elem=successor.elem\n",
        "            #we remove the succesor from the tree\n",
        "            self._removeNode(successor)\n",
        "                \n",
        "\n",
        "    \n"
      ],
      "execution_count": 99,
      "outputs": []
    },
    {
      "cell_type": "code",
      "metadata": {
        "id": "Lvqy-SexW4Fo",
        "colab": {
          "base_uri": "https://localhost:8080/"
        },
        "outputId": "d9f66bf7-2f9e-47e5-8b47-04aced27c05d"
      },
      "source": [
        "import random\n",
        "tree=BinarySearchTree()\n",
        "for i in range(20):\n",
        "  tree.insert(random.randint(0,25))\n",
        "print()\n",
        "\n",
        "tree.draw()\n",
        "print('size:',tree.size())\n",
        "print('height:',tree.height())\n"
      ],
      "execution_count": 100,
      "outputs": [
        {
          "output_type": "stream",
          "text": [
            "Error: la clave 22 ya existe. No permitimos duplicados\n",
            "Error: la clave 19 ya existe. No permitimos duplicados\n",
            "Error: la clave 4 ya existe. No permitimos duplicados\n",
            "Error: la clave 0 ya existe. No permitimos duplicados\n",
            "Error: la clave 8 ya existe. No permitimos duplicados\n",
            "\n",
            "     |-- 22\n",
            "          |-- 21\n",
            "                    |-- 20\n",
            "               |-- 19\n",
            "|-- 18\n",
            "               |-- 17\n",
            "                    |-- 13\n",
            "          |-- 11\n",
            "     |-- 9\n",
            "                    |-- 8\n",
            "               |-- 7\n",
            "          |-- 5\n",
            "               |-- 4\n",
            "                         |-- 1\n",
            "                    |-- 0\n",
            "\n",
            "size: 15\n",
            "height: 5\n"
          ],
          "name": "stdout"
        }
      ]
    },
    {
      "cell_type": "code",
      "metadata": {
        "colab": {
          "base_uri": "https://localhost:8080/"
        },
        "id": "UpAQ5HU3fvje",
        "outputId": "63d2998a-f88d-4e09-e467-d7d2e8517466"
      },
      "source": [
        "\n",
        "for x in [5,10,17,20,22,23,25]:\n",
        "    print(\"search({})={}\".format(x,tree.search(x)))\n"
      ],
      "execution_count": 101,
      "outputs": [
        {
          "output_type": "stream",
          "text": [
            "search(5)=True\n",
            "search(10)=False\n",
            "search(17)=True\n",
            "search(20)=True\n",
            "search(22)=True\n",
            "search(23)=False\n",
            "search(25)=False\n"
          ],
          "name": "stdout"
        }
      ]
    },
    {
      "cell_type": "code",
      "metadata": {
        "colab": {
          "base_uri": "https://localhost:8080/"
        },
        "id": "XlKIp4-ugJ4Z",
        "outputId": "f39fe489-96bf-4a75-9c27-0ec9c90cd188"
      },
      "source": [
        "tree.remove(21)\n",
        "tree.draw()"
      ],
      "execution_count": 107,
      "outputs": [
        {
          "output_type": "stream",
          "text": [
            "removing  21\n",
            "          |-- 20\n",
            "     |-- 19\n",
            "|-- 18\n",
            "               |-- 17\n",
            "                    |-- 13\n",
            "          |-- 11\n",
            "     |-- 9\n",
            "          |-- 7\n",
            "               |-- 4\n",
            "                    |-- 1\n",
            "\n"
          ],
          "name": "stdout"
        }
      ]
    }
  ]
}