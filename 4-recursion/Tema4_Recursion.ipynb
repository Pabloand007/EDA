{
  "nbformat": 4,
  "nbformat_minor": 0,
  "metadata": {
    "colab": {
      "name": "Tema4-Recursion.ipynb",
      "provenance": [],
      "collapsed_sections": [],
      "authorship_tag": "ABX9TyNkW8dY1SnBN77/lkOzQK5V",
      "include_colab_link": true
    },
    "kernelspec": {
      "name": "python3",
      "display_name": "Python 3"
    }
  },
  "cells": [
    {
      "cell_type": "markdown",
      "metadata": {
        "id": "view-in-github",
        "colab_type": "text"
      },
      "source": [
        "<a href=\"https://colab.research.google.com/github/isegura/EDA/blob/master/Tema4_Recursion.ipynb\" target=\"_parent\"><img src=\"https://colab.research.google.com/assets/colab-badge.svg\" alt=\"Open In Colab\"/></a>"
      ]
    },
    {
      "cell_type": "markdown",
      "metadata": {
        "id": "OsANuqnCXoM5"
      },
      "source": [
        "# Recursión\n",
        "\n",
        "## Suma los números de 1 a N (solución recursiva)"
      ]
    },
    {
      "cell_type": "code",
      "metadata": {
        "colab": {
          "base_uri": "https://localhost:8080/"
        },
        "id": "XAv0WQeOZtQK",
        "outputId": "ef95c8d6-07e1-4813-fe7e-4b6acc873a23"
      },
      "source": [
        "def sumN(n):\n",
        "    \"\"\"versión iterativa\"\"\"\n",
        "    result=0\n",
        "    for i in range(1,n+1):\n",
        "        result+=i\n",
        "    return result\n",
        "\n",
        "n=5\n",
        "print(\"sumN({})={}\".format(n,sumN(n)))\n"
      ],
      "execution_count": 9,
      "outputs": [
        {
          "output_type": "stream",
          "text": [
            "sumN(5)=15\n"
          ],
          "name": "stdout"
        }
      ]
    },
    {
      "cell_type": "code",
      "metadata": {
        "colab": {
          "base_uri": "https://localhost:8080/"
        },
        "id": "1eiSNJ5ZXT3i",
        "outputId": "2a2ddce3-1d32-4064-9536-d51903c50f17"
      },
      "source": [
        "def sumN(n):\n",
        "    \"\"\"versión recursiva\"\"\"\n",
        "    if n==1:\n",
        "        return 1\n",
        "    else:\n",
        "        return n + sumN(n-1)\n",
        "\n",
        "n=5\n",
        "print(\"sumN({})={}\".format(n,sumN(n)))\n"
      ],
      "execution_count": 14,
      "outputs": [
        {
          "output_type": "stream",
          "text": [
            "sumN(5)=15\n"
          ],
          "name": "stdout"
        }
      ]
    },
    {
      "cell_type": "markdown",
      "metadata": {
        "id": "SLe1XL_BYN90"
      },
      "source": [
        "## Factorial (solución recursiva)\n"
      ]
    },
    {
      "cell_type": "code",
      "metadata": {
        "colab": {
          "base_uri": "https://localhost:8080/"
        },
        "id": "DIvDkmYuaA6-",
        "outputId": "1acc590e-64a6-408b-b31b-c8ff24fc84b9"
      },
      "source": [
        "def factorial(n):\n",
        "    \"\"\"versión iterativa\"\"\"\n",
        "    result=1\n",
        "    for i in range(1,n+1):\n",
        "        result*=i\n",
        "    return result\n",
        "\n",
        "n=5\n",
        "print(\"factorial({})={}\".format(n,factorial(n)))        "
      ],
      "execution_count": 12,
      "outputs": [
        {
          "output_type": "stream",
          "text": [
            "factorial(5)=120\n"
          ],
          "name": "stdout"
        }
      ]
    },
    {
      "cell_type": "code",
      "metadata": {
        "colab": {
          "base_uri": "https://localhost:8080/"
        },
        "id": "lzeMP8VzYQsW",
        "outputId": "3663c4d7-11f0-4050-e966-d31ecd7e3d93"
      },
      "source": [
        "def factorial(n):\n",
        "    \"\"\"versión recursiva\"\"\"\n",
        "    if n==1:\n",
        "        return 1\n",
        "    else:\n",
        "        return n*factorial(n-1)\n",
        "\n",
        "\n",
        "n=5\n",
        "print(\"factorial({})={}\".format(n,factorial(n)))        "
      ],
      "execution_count": 13,
      "outputs": [
        {
          "output_type": "stream",
          "text": [
            "factorial(5)=120\n"
          ],
          "name": "stdout"
        }
      ]
    },
    {
      "cell_type": "markdown",
      "metadata": {
        "id": "BYzioxxwYu5I"
      },
      "source": [
        "## Potencia (solución recursiva)"
      ]
    },
    {
      "cell_type": "code",
      "metadata": {
        "colab": {
          "base_uri": "https://localhost:8080/"
        },
        "id": "9Rc4P0hnlJsF",
        "outputId": "ee4cf29b-4688-4294-e5cd-68c1b45b071d"
      },
      "source": [
        "def potencia(a,n):\n",
        "    \"\"\"versión iterativa\"\"\"\n",
        "    result=1\n",
        "\n",
        "    for i in range(n):\n",
        "        result*=a\n",
        "\n",
        "    return result\n",
        "\n",
        "\n",
        "a=2\n",
        "n=0\n",
        "print(\"potencia({},{})={}\".format(a,n,potencia(a,n)))    "
      ],
      "execution_count": 26,
      "outputs": [
        {
          "output_type": "stream",
          "text": [
            "potencia(2,0)=1\n"
          ],
          "name": "stdout"
        }
      ]
    },
    {
      "cell_type": "code",
      "metadata": {
        "colab": {
          "base_uri": "https://localhost:8080/"
        },
        "id": "fbjVeCmxY2QP",
        "outputId": "9d08db71-8ad4-4773-98e2-505558e0f8c8"
      },
      "source": [
        "def potencia(a,n):\n",
        "    \"\"\"versión recursiva\"\"\"\n",
        "\n",
        "    if n==0:\n",
        "        return 1\n",
        "    else:\n",
        "        return a * potencia(a,n-1)\n",
        "\n",
        "a=5\n",
        "n=3\n",
        "print(\"potencia({},{})={}\".format(a,n,potencia(a,n)))    "
      ],
      "execution_count": 29,
      "outputs": [
        {
          "output_type": "stream",
          "text": [
            "potencia(5,3)=125\n"
          ],
          "name": "stdout"
        }
      ]
    },
    {
      "cell_type": "markdown",
      "metadata": {
        "id": "cFj9bpvr3bKO"
      },
      "source": [
        "## Multiplicación basada en suma\n"
      ]
    },
    {
      "cell_type": "code",
      "metadata": {
        "colab": {
          "base_uri": "https://localhost:8080/"
        },
        "id": "0vigw5Ns3dlG",
        "outputId": "bd0f43e1-af1c-4629-a807-fddc36a85804"
      },
      "source": [
        "def producto_suma(a,b):\n",
        "    \"\"\"devuelve a*b=sumar a b veces\"\"\"\n",
        "    result=0\n",
        "    for i in range(b):\n",
        "        result+=a\n",
        "\n",
        "    return result\n",
        "\n",
        "a=5\n",
        "b=4\n",
        "print('producto_suma({},{})={}'.format(a,b,producto_suma(a,b)))\n"
      ],
      "execution_count": 166,
      "outputs": [
        {
          "output_type": "stream",
          "text": [
            "producto_suma(5,4)=20\n"
          ],
          "name": "stdout"
        }
      ]
    },
    {
      "cell_type": "code",
      "metadata": {
        "colab": {
          "base_uri": "https://localhost:8080/"
        },
        "id": "Pn_kVVEl4cfg",
        "outputId": "efbe1f3d-46bd-44ad-ec99-ddfcb44a7b49"
      },
      "source": [
        "def producto_suma(a,b):\n",
        "    \"\"\"devuelve a*b=sumar a b veces; recursivo\"\"\"\n",
        "    if b==0:\n",
        "        return a\n",
        "    else:\n",
        "        return a+(producto_suma(a,b-1))\n",
        "\n",
        "a=5\n",
        "b=1\n",
        "print('producto_suma({},{})={}'.format(a,b,producto_suma(a,b)))\n"
      ],
      "execution_count": 169,
      "outputs": [
        {
          "output_type": "stream",
          "text": [
            "producto_suma(5,1)=10\n"
          ],
          "name": "stdout"
        }
      ]
    },
    {
      "cell_type": "markdown",
      "metadata": {
        "id": "3dgMz8YDkjNH"
      },
      "source": [
        "## Sumar elementos de un array (solución recursiva)\n",
        "Un array es una lista de Python"
      ]
    },
    {
      "cell_type": "code",
      "metadata": {
        "colab": {
          "base_uri": "https://localhost:8080/"
        },
        "id": "WRj6yXaakmcB",
        "outputId": "67bfdc77-7ab6-4bb5-cd2a-2d596b2dbaa7"
      },
      "source": [
        "def sumArray(data):\n",
        "    \"\"\"versión iterativa\"\"\"\n",
        "    result=0\n",
        "    for e in data:\n",
        "        result += e\n",
        "    \n",
        "    return result\n",
        "\n",
        "\n",
        "a=[3,5,2,0,-5]\n",
        "print(\"sumArray({})={}\".format(a,sumArray(a)))     \n"
      ],
      "execution_count": 20,
      "outputs": [
        {
          "output_type": "stream",
          "text": [
            "sumArray([3, 5, 2, 0, -5])=5\n"
          ],
          "name": "stdout"
        }
      ]
    },
    {
      "cell_type": "code",
      "metadata": {
        "colab": {
          "base_uri": "https://localhost:8080/"
        },
        "id": "AnrENra5lGt3",
        "outputId": "459f5d24-1638-4295-f346-46e492a9e026"
      },
      "source": [
        "def sumArray(data):\n",
        "    \"\"\"versión recursiva\"\"\"\n",
        "    if data==None or len(data)==0:\n",
        "        return 0\n",
        "    else:\n",
        "        return data[0]+sumArray(data[1:])\n",
        "\n",
        "    return result\n",
        "\n",
        "\n",
        "a=[3,5,2,0,-5]\n",
        "print(\"sumArray({})={}\".format(a,sumArray(a)))     \n"
      ],
      "execution_count": 30,
      "outputs": [
        {
          "output_type": "stream",
          "text": [
            "sumArray([3, 5, 2, 0, -5])=5\n"
          ],
          "name": "stdout"
        }
      ]
    },
    {
      "cell_type": "code",
      "metadata": {
        "colab": {
          "base_uri": "https://localhost:8080/"
        },
        "id": "DyU1AGoGl2ud",
        "outputId": "e10d57e6-2671-49bc-e1d9-3642ebb30964"
      },
      "source": [
        "def sumArray(data,i=0):\n",
        "    \"\"\"versión recursiva; sin modificar data\"\"\"\n",
        "    if data==None or len(data)==0:\n",
        "        return 0\n",
        "\n",
        "    if i==len(data)-1:\n",
        "        return data[i]\n",
        "    else:\n",
        "        return data[i]+sumArray(data,i+1)\n",
        "\n",
        "    return result\n",
        "\n",
        "\n",
        "a=[2]\n",
        "print(\"sumArray({})={}\".format(a,sumArray(a)))    "
      ],
      "execution_count": 33,
      "outputs": [
        {
          "output_type": "stream",
          "text": [
            "sumArray([2])=2\n"
          ],
          "name": "stdout"
        }
      ]
    },
    {
      "cell_type": "markdown",
      "metadata": {
        "id": "c8zvA7oFmsD5"
      },
      "source": [
        "## Encontrar el elemento mayor en un array (solución recursiva)"
      ]
    },
    {
      "cell_type": "code",
      "metadata": {
        "colab": {
          "base_uri": "https://localhost:8080/"
        },
        "id": "6BgaCz7dmzg8",
        "outputId": "6fdbc324-233e-44e2-f6a2-65cc781146de"
      },
      "source": [
        "import sys\n",
        "\n",
        "def findMaximum(data):\n",
        "    \"\"\"versión iterativa\"\"\"\n",
        "    maximum=-sys.maxsize #refers to the maximum size of lists and strings in Python\n",
        "    for e in data:\n",
        "        if e>maximum:\n",
        "            maximum=e\n",
        "\n",
        "    return maximum\n",
        "\n",
        "\n",
        "a=[3,5,2,0,-5,10]\n",
        "print(\"findMaximum({})={}\".format(a,findMaximum(a)))     "
      ],
      "execution_count": 37,
      "outputs": [
        {
          "output_type": "stream",
          "text": [
            "findMaximum([3, 5, 2, 0, -5, 10])=10\n"
          ],
          "name": "stdout"
        }
      ]
    },
    {
      "cell_type": "code",
      "metadata": {
        "colab": {
          "base_uri": "https://localhost:8080/"
        },
        "id": "LCuvNZVbnHRY",
        "outputId": "8432e3f1-5e7c-4811-c01d-78ecd3bc4973"
      },
      "source": [
        "def findMaximum(data):\n",
        "    \"\"\"versión recursiva\"\"\"\n",
        "    if data==None or len(data)==0:\n",
        "        return None\n",
        "    elif len(data)==1:\n",
        "        return data[0]\n",
        "    else:\n",
        "        return max(data[0],findMaximum(data[1:]))\n",
        "\n",
        "    return result\n",
        "\n",
        "\n",
        "a=[]\n",
        "print(\"findMaximum({})={}\".format(a,findMaximum(a)))    \n"
      ],
      "execution_count": 43,
      "outputs": [
        {
          "output_type": "stream",
          "text": [
            "findMaximum([10, 5, -3, -100])=10\n"
          ],
          "name": "stdout"
        }
      ]
    },
    {
      "cell_type": "code",
      "metadata": {
        "id": "Yr831EpFoGB8"
      },
      "source": [
        "\n",
        "def findMaximum(data, i=0):\n",
        "    \"\"\"versión recursiva; sin modificar data\"\"\"\n",
        "    if data==None or len(data)==0:\n",
        "        return None\n",
        "    elif i==len(data)-1:\n",
        "        return data[i]\n",
        "    else:\n",
        "        return max(data[i],findMaximum(data[i+1:]))\n",
        "\n",
        "    return result\n",
        "\n",
        "\n",
        "a=[10,5,-3,-100]\n",
        "print(\"findMaximum({})={}\".format(a,findMaximum(a)))     "
      ],
      "execution_count": null,
      "outputs": []
    },
    {
      "cell_type": "markdown",
      "metadata": {
        "id": "X6XAcOMAoBGa"
      },
      "source": [
        "## Comprobar si una palabra es palíndroma (versión recursiva)\n"
      ]
    },
    {
      "cell_type": "code",
      "metadata": {
        "colab": {
          "base_uri": "https://localhost:8080/"
        },
        "id": "Zss7NBevpK9e",
        "outputId": "a2355ab9-879e-42ec-cfcd-8e4b337ff601"
      },
      "source": [
        "def isPalindrome(s):\n",
        "    if s==None:\n",
        "        return False\n",
        "\n",
        "    for i in range(len(s)):\n",
        "        if s[i]!=s[len(s)-1-i]:\n",
        "            return False\n",
        "\n",
        "    return True\n",
        "\n",
        "word=\"abdcba\"\n",
        "print(\"isPalindrome({})={}\".format(word,isPalindrome(word)))     "
      ],
      "execution_count": 54,
      "outputs": [
        {
          "output_type": "stream",
          "text": [
            "isPalindrome(abdcba)=False\n"
          ],
          "name": "stdout"
        }
      ]
    },
    {
      "cell_type": "code",
      "metadata": {
        "colab": {
          "base_uri": "https://localhost:8080/"
        },
        "id": "bx6qjtvcovlb",
        "outputId": "49725b52-b118-418d-8ee1-a38ffb95af5b"
      },
      "source": [
        "def isPalindrome(s):\n",
        "    \"\"\"versión recursiva\"\"\"\n",
        "    if s==None:\n",
        "        return False\n",
        "    elif len(s)==0:\n",
        "        return True\n",
        "    else:\n",
        "        return s[0]==s[len(s)-1] and isPalindrome(s[1:-1])\n",
        "\n",
        "word='abcba'\n",
        "print(\"isPalindrome({})={}\".format(word,isPalindrome(word)))     "
      ],
      "execution_count": 60,
      "outputs": [
        {
          "output_type": "stream",
          "text": [
            "isPalindrome(abcba)=True\n"
          ],
          "name": "stdout"
        }
      ]
    },
    {
      "cell_type": "code",
      "metadata": {
        "colab": {
          "base_uri": "https://localhost:8080/"
        },
        "id": "ek1fUWFdp6W4",
        "outputId": "01574385-f746-450d-d877-29c694da75c9"
      },
      "source": [
        "def isPalindrome(s,i=0):\n",
        "    \"\"\"versión recursiva; sin modificar la palabra\"\"\"\n",
        "    if s==None:\n",
        "        return False\n",
        "    elif len(s)==0:\n",
        "        return True\n",
        "    else:\n",
        "        return s[i]==s[len(s)-1-i] and isPalindrome(s[i+1:-(i+1)])\n",
        "\n",
        "word='abdcdbaz'\n",
        "print(\"isPalindrome({})={}\".format(word,isPalindrome(word)))     "
      ],
      "execution_count": 87,
      "outputs": [
        {
          "output_type": "stream",
          "text": [
            "isPalindrome(abdcdbaz)=False\n"
          ],
          "name": "stdout"
        }
      ]
    },
    {
      "cell_type": "markdown",
      "metadata": {
        "id": "iHHLcaOKrDb3"
      },
      "source": [
        "## Comprobar si un array está ordenado de menor a mayor"
      ]
    },
    {
      "cell_type": "code",
      "metadata": {
        "colab": {
          "base_uri": "https://localhost:8080/"
        },
        "id": "DDPDLKI6rG--",
        "outputId": "8ffae914-d80c-4d0d-946b-a946ca2c93a5"
      },
      "source": [
        "def isSorted(data):\n",
        "    \"\"\"versión iterativa\"\"\"\n",
        "    if data==None:\n",
        "        return False\n",
        "    \n",
        "    for i in range(len(data)-2):\n",
        "        if data[i]>data[i+1]:\n",
        "            return False\n",
        "\n",
        "    return True\n",
        "\n",
        "a=[]\n",
        "print(\"isSorted({})={}\".format(a,isSorted(a)))     "
      ],
      "execution_count": 91,
      "outputs": [
        {
          "output_type": "stream",
          "text": [
            "isSorted([])=True\n"
          ],
          "name": "stdout"
        }
      ]
    },
    {
      "cell_type": "code",
      "metadata": {
        "colab": {
          "base_uri": "https://localhost:8080/"
        },
        "id": "4APq1oj1rnWn",
        "outputId": "ef9b443f-f587-4e8b-d3f4-5738b5c4526a"
      },
      "source": [
        "def isSorted(data):\n",
        "    \"\"\"versión recursiva\"\"\"\n",
        "    if data==None:\n",
        "        return False\n",
        "    \n",
        "    if len(data)<=1:\n",
        "        return True\n",
        "    else:\n",
        "        return data[0]<=data[1] and isSorted(data[1:])\n",
        "\n",
        "\n",
        "\n",
        "a=[-4,1,3,5,5,4]\n",
        "print(\"isSorted({})={}\".format(a,isSorted(a)))"
      ],
      "execution_count": 99,
      "outputs": [
        {
          "output_type": "stream",
          "text": [
            "isSorted([-4, 1, 3, 5, 5, 4])=False\n"
          ],
          "name": "stdout"
        }
      ]
    },
    {
      "cell_type": "code",
      "metadata": {
        "colab": {
          "base_uri": "https://localhost:8080/"
        },
        "id": "6q6LXB4pr98G",
        "outputId": "41c904af-fee5-4c0a-e7c5-82ea893463b2"
      },
      "source": [
        "def isSorted(data,i=0):\n",
        "    \"\"\"versión recursiva; sin modificar data\"\"\"\n",
        "    if data==None:\n",
        "        return False\n",
        "    \n",
        "    if len(data)<=1:\n",
        "        return True\n",
        "    else:\n",
        "        return data[i]<=data[i+1] and isSorted(data[i+1:])\n",
        "\n",
        "\n",
        "\n",
        "a=[1,3,5,5]\n",
        "print(\"isSorted({})={}\".format(a,isSorted(a)))"
      ],
      "execution_count": 103,
      "outputs": [
        {
          "output_type": "stream",
          "text": [
            "isSorted([1, 3, 5, 5])=True\n"
          ],
          "name": "stdout"
        }
      ]
    },
    {
      "cell_type": "markdown",
      "metadata": {
        "id": "ZO4icYCxsMZQ"
      },
      "source": [
        "## Búsqueda binaria \n",
        "Busca un elemento en un array ordenado de menor a mayor"
      ]
    },
    {
      "cell_type": "code",
      "metadata": {
        "colab": {
          "base_uri": "https://localhost:8080/"
        },
        "id": "GBRQ2FC3sLv8",
        "outputId": "0c4dd680-32e6-4842-e767-81ca0e9847b8"
      },
      "source": [
        "def binarySearch(x,data):\n",
        "    \"\"\"versión iterativa\"\"\"\n",
        "    if isSorted(data)==False:\n",
        "        print(data, \" no está ordenado!!!\")\n",
        "        return None\n",
        "\n",
        "    if len(data)==0:\n",
        "        return False\n",
        "\n",
        "\n",
        "    m=len(data)//2\n",
        "    if x==data[m]:\n",
        "        return True\n",
        "\n",
        "    if x<data[m]:\n",
        "        for i in range(m):\n",
        "            if x==data[i]:\n",
        "                return True\n",
        "    else:\n",
        "        for i in range(m,len(data)):\n",
        "            if x==data[i]:\n",
        "                return True\n",
        "    \n",
        "    return False\n",
        "\n",
        "x=6   \n",
        "a=[1,3,5,6,7]\n",
        "print(\"binarySearch({},{})={}\".format(x,a,binarySearch(x,a)))"
      ],
      "execution_count": 118,
      "outputs": [
        {
          "output_type": "stream",
          "text": [
            "binarySearch(6,[1, 3, 5, 6, 7])=True\n"
          ],
          "name": "stdout"
        }
      ]
    },
    {
      "cell_type": "code",
      "metadata": {
        "colab": {
          "base_uri": "https://localhost:8080/"
        },
        "id": "EAYlHr-1v3Tz",
        "outputId": "a6a29fe7-6e22-42e8-ffec-3307414bf375"
      },
      "source": [
        "def binarySearch(x,data):\n",
        "    \"\"\"versión recursiva\"\"\"\n",
        "    if isSorted(data)==False:\n",
        "        print(data, \" no está ordenado!!!\")\n",
        "        return None\n",
        "\n",
        "    if len(data)==0:\n",
        "        return False\n",
        "\n",
        "\n",
        "    m=len(data)//2\n",
        "    if x==data[m]:\n",
        "        return True\n",
        "\n",
        "    if x<data[m]:\n",
        "        return binarySearch(x,data[0:m])\n",
        "    else:\n",
        "        return binarySearch(x,data[m+1:])\n",
        "\n",
        "\n",
        "x=1   \n",
        "a=[]\n",
        "print(\"binarySearch({},{})={}\".format(x,a,binarySearch(x,a)))"
      ],
      "execution_count": 137,
      "outputs": [
        {
          "output_type": "stream",
          "text": [
            "binarySearch(1,[])=False\n"
          ],
          "name": "stdout"
        }
      ]
    },
    {
      "cell_type": "code",
      "metadata": {
        "colab": {
          "base_uri": "https://localhost:8080/"
        },
        "id": "3Kjimcc7wV5M",
        "outputId": "011bb555-3223-4e24-aef3-a4d74fe69cb7"
      },
      "source": [
        "def binarySearch(x,data):\n",
        "    return _binarySearch(x,data,0,len(data)-1)\n",
        "\n",
        "def _binarySearch(x,data, i, j):\n",
        "    \"\"\"versión recursiva: devuelve el index\"\"\"\n",
        "    if isSorted(data)==False:\n",
        "        print(data, \" no está ordenado!!!\")\n",
        "        return -1\n",
        "\n",
        "    if len(data)==0:\n",
        "        return -1\n",
        "\n",
        "\n",
        "    m=(i+j)//2\n",
        "    if x==data[m]:\n",
        "        return m\n",
        "\n",
        "    if x<data[m]:\n",
        "        return _binarySearch(x,data,i,m)\n",
        "    else:\n",
        "        return _binarySearch(x,data,m+1,j)\n",
        "\n",
        "\n",
        "x=-1   \n",
        "a=[-1,0,1]\n",
        "print(\"binarySearch({},{})={}\".format(x,a,binarySearch(x,a)))"
      ],
      "execution_count": 138,
      "outputs": [
        {
          "output_type": "stream",
          "text": [
            "binarySearch(-1,[-1, 0, 1])=0\n"
          ],
          "name": "stdout"
        }
      ]
    },
    {
      "cell_type": "markdown",
      "metadata": {
        "id": "syxUCkjOzNTt"
      },
      "source": [
        "## Invertir un array\n"
      ]
    },
    {
      "cell_type": "code",
      "metadata": {
        "colab": {
          "base_uri": "https://localhost:8080/"
        },
        "id": "e2jwD2gvzPFF",
        "outputId": "89f09626-5481-4ed1-852a-2ee76f6aee45"
      },
      "source": [
        "def reverse(data):\n",
        "    \"\"\"versión iterativa\"\"\"\n",
        "    for i in range(len(data)//2):\n",
        "        data[i], data[len(data)-1-i] = data[len(data)-1-i], data[i]\n",
        "\n",
        "\n",
        "a=[1,2,3]\n",
        "\n",
        "print(a)\n",
        "reverse(a)\n",
        "print(a)"
      ],
      "execution_count": 147,
      "outputs": [
        {
          "output_type": "stream",
          "text": [
            "[1, 2, 3]\n",
            "[3, 2, 1]\n"
          ],
          "name": "stdout"
        }
      ]
    },
    {
      "cell_type": "code",
      "metadata": {
        "colab": {
          "base_uri": "https://localhost:8080/"
        },
        "id": "h-x0Llag1-Ft",
        "outputId": "b839ae29-f939-4609-f995-555b27f4198a"
      },
      "source": [
        "def reverse(data):\n",
        "    \"\"\"versión recursiva\"\"\"\n",
        "    if len(data)>0:\n",
        "        data[0], data[len(data)-1] = data[len(data)-1], data[0]\n",
        "        reverse(data[1:-1])\n",
        "\n",
        "\n",
        "a=[1,2,3,4]\n",
        "\n",
        "print(a)\n",
        "reverse(a)\n",
        "print(a)"
      ],
      "execution_count": 153,
      "outputs": [
        {
          "output_type": "stream",
          "text": [
            "[1, 2, 3, 4]\n",
            "[4, 2, 3, 1]\n"
          ],
          "name": "stdout"
        }
      ]
    },
    {
      "cell_type": "code",
      "metadata": {
        "colab": {
          "base_uri": "https://localhost:8080/"
        },
        "id": "O7U1k97T2Utf",
        "outputId": "dd3298bd-a3dc-45eb-b1a7-7f6cc272dc65"
      },
      "source": [
        "def reverse(data):\n",
        "    _reverse(data,0,len(data)-1)\n",
        "\n",
        "def _reverse(data,i,j):\n",
        "    \"\"\"versión recursiva; sin modificar data\"\"\"\n",
        "    if i<j:\n",
        "        data[i], data[j] = data[j], data[i]\n",
        "        _reverse(data,i+1,j-1)\n",
        "\n",
        "\n",
        "a=[]\n",
        "\n",
        "print(a)\n",
        "reverse(a)\n",
        "print(a)"
      ],
      "execution_count": 161,
      "outputs": [
        {
          "output_type": "stream",
          "text": [
            "[]\n",
            "[]\n"
          ],
          "name": "stdout"
        }
      ]
    },
    {
      "cell_type": "markdown",
      "metadata": {
        "id": "Czt2t0mc4y5p"
      },
      "source": [
        "#Contar número de veces de un digito en un número\n"
      ]
    },
    {
      "cell_type": "code",
      "metadata": {
        "colab": {
          "base_uri": "https://localhost:8080/"
        },
        "id": "luRXbjb73WKf",
        "outputId": "5987bd72-358b-479f-9186-63e67eccade0"
      },
      "source": [
        "def count3(n):\n",
        "    \"\"\"versión recursiva\"\"\"\n",
        "    if type(n)!=int or n<0:\n",
        "        print(n, \" debe ser positivo\")\n",
        "        return -1\n",
        "\n",
        "    if n==3:\n",
        "        return 1\n",
        "    elif n<10:\n",
        "        return 0\n",
        "    else:\n",
        "        if n%10==3:\n",
        "            return 1 + count3(n//10)\n",
        "        else:\n",
        "            return + count3(n//10)\n",
        "\n",
        "n=31333333\n",
        "print(\"count3({})={}\".format(n,count3(n)))"
      ],
      "execution_count": 175,
      "outputs": [
        {
          "output_type": "stream",
          "text": [
            "count3(31333333)=7\n"
          ],
          "name": "stdout"
        }
      ]
    },
    {
      "cell_type": "code",
      "metadata": {
        "colab": {
          "base_uri": "https://localhost:8080/"
        },
        "id": "QZDVobNX6lmp",
        "outputId": "325ce08b-a34a-452f-ed43-82a909e1cf15"
      },
      "source": [
        "def count(n,d):\n",
        "    \"\"\"versión recursiva\"\"\"\n",
        "    if type(n)!=int or n<0:\n",
        "        print(n, \" debe ser positivo\")\n",
        "        return -1\n",
        "\n",
        "    if n==d:\n",
        "        return 1\n",
        "    elif n<10:\n",
        "        return 0\n",
        "    else:\n",
        "        if n%10==d:\n",
        "            return 1 + count(n//10,d)\n",
        "        else:\n",
        "            return + count(n//10,d)\n",
        "d=1\n",
        "n=31333333\n",
        "print(\"count({}{})={}\".format(n,d,count(n,d)))"
      ],
      "execution_count": 177,
      "outputs": [
        {
          "output_type": "stream",
          "text": [
            "count(313333331)=1\n"
          ],
          "name": "stdout"
        }
      ]
    },
    {
      "cell_type": "markdown",
      "metadata": {
        "id": "v2UU6fqv61Mc"
      },
      "source": [
        "#Sumar dígitos de un número"
      ]
    },
    {
      "cell_type": "code",
      "metadata": {
        "colab": {
          "base_uri": "https://localhost:8080/"
        },
        "id": "U12wBsLR64BS",
        "outputId": "dd585a5d-4ca1-4e51-c276-40abcc9e71ee"
      },
      "source": [
        "def sum_digitos(n):\n",
        "    \"\"\"versión recursiva\"\"\"\n",
        "    if type(n)!=int or n<0:\n",
        "        print(n, \" debe ser positivo\")\n",
        "        return -1\n",
        "\n",
        "    if n<10:\n",
        "        return n\n",
        "    else:\n",
        "        return (n%10) + sum_digitos(n//10)\n",
        "n=358\n",
        "print(\"sum_digitos({})={}\".format(n,sum_digitos(n)))"
      ],
      "execution_count": 181,
      "outputs": [
        {
          "output_type": "stream",
          "text": [
            "sum_digitos(358)=16\n"
          ],
          "name": "stdout"
        }
      ]
    },
    {
      "cell_type": "markdown",
      "metadata": {
        "id": "FwoONJ5h7Q8v"
      },
      "source": [
        "## Suma fibonnacci"
      ]
    },
    {
      "cell_type": "code",
      "metadata": {
        "colab": {
          "base_uri": "https://localhost:8080/"
        },
        "id": "F9ubWgUM7P6I",
        "outputId": "55481e70-f8c0-4213-b258-a696245c2472"
      },
      "source": [
        "def fibo(n):\n",
        "    if n<0 or type(n)!=int:\n",
        "        return None\n",
        "\n",
        "    if n<=1:\n",
        "        return 1\n",
        "    else:\n",
        "        return fibo(n-1)+fibo(n-2)\n",
        "\n",
        "n=40\n",
        "print(\"fibo({})={}\".format(n,fibo(n)))"
      ],
      "execution_count": 188,
      "outputs": [
        {
          "output_type": "stream",
          "text": [
            "fibo(40)=165580141\n"
          ],
          "name": "stdout"
        }
      ]
    },
    {
      "cell_type": "markdown",
      "metadata": {
        "id": "PSk4Z_n3CvJE"
      },
      "source": [
        "## Multiplicación Rusa\n",
        "\n",
        "Ver vídeo:\n",
        "https://www.youtube.com/watch?v=CfrjVY8U8-8\n",
        "\n",
        "\n",
        "<img src='https://i.stack.imgur.com/W7u9u.png'>\n",
        "\n"
      ]
    },
    {
      "cell_type": "code",
      "metadata": {
        "colab": {
          "base_uri": "https://localhost:8080/"
        },
        "id": "zxl2G8tzDdEM",
        "outputId": "26de0463-68a0-46b0-a4de-a775f01a484e"
      },
      "source": [
        "def multiplicacion_rusa(a,b):\n",
        "    if a==0:\n",
        "        return 0\n",
        "    if a==1:\n",
        "        return b\n",
        "\n",
        "    if a%2!=0:\n",
        "        return b + multiplicacion_rusa(a//2,b*2)\n",
        "    else:\n",
        "        return multiplicacion_rusa(a//2,b*2)\n",
        "\n",
        "a=21\n",
        "b=7\n",
        "\n",
        "print('{}*{}={}'.format(a,b,a*b))\n",
        "print('multiplicacion_rusa({},{})={}'.format(a,b,multiplicacion_rusa(a,b)))"
      ],
      "execution_count": 230,
      "outputs": [
        {
          "output_type": "stream",
          "text": [
            "21*7=147\n",
            "multiplicacion_rusa(21,7)=147\n"
          ],
          "name": "stdout"
        }
      ]
    },
    {
      "cell_type": "markdown",
      "metadata": {
        "id": "JESvGTMPKWy4"
      },
      "source": [
        "# Comprueba si tiene más vocales que consonantes\n",
        "La función recibe un string y devuelve True si tiene más vocales que consonantes"
      ]
    },
    {
      "cell_type": "code",
      "metadata": {
        "colab": {
          "base_uri": "https://localhost:8080/"
        },
        "id": "yCLmuohSKiQm",
        "outputId": "10aba053-4084-451b-c87b-378f7eac5f89"
      },
      "source": [
        "def isVowel(c):\n",
        "    return c.lower() in ['a','e','i','o','u']\n",
        "        \n",
        "def numVowels(s):\n",
        "    if s==None or len(s)==0:\n",
        "        return 0\n",
        "\n",
        "    if isVowel(s[0]):\n",
        "        return 1 + numVowels(s[1:])\n",
        "    else:\n",
        "        return numVowels(s[1:])\n",
        "\n",
        "def moreVowels(s):\n",
        "    return numVowels(s)>len(s)//2\n",
        "\n",
        "s='ibaabe'\n",
        "print('moreVowels({})={}'.format(s,moreVowels(s)))\n"
      ],
      "execution_count": 257,
      "outputs": [
        {
          "output_type": "stream",
          "text": [
            "moreVowels(ibaabe)=True\n"
          ],
          "name": "stdout"
        }
      ]
    },
    {
      "cell_type": "markdown",
      "metadata": {
        "id": "xGSVAcL5GI_N"
      },
      "source": [
        "## Máximo Común divisor (Algoritmo de Euclídes)\n",
        "\n",
        "https://www.youtube.com/watch?v=036pOZO0hV4\n",
        "\n",
        "El algoritmo de euclídes afirma \n",
        "mcd(a,b) = mcd(b,a%b)\n",
        "\n",
        "si a=bc+r\n",
        "\n",
        "el mcd de a y b, también deberá ser el mcd de b y  r\n",
        "\n",
        "mcd(64,30) = mcd(30, 4) =mcd(4,2) = 2\n",
        "\n",
        "64 = 30*2 + 4\n",
        "\n",
        "30 = 4*7 + 2\n",
        "\n",
        "4= 2*2 + 0\n",
        "\n",
        "a=24\n",
        "b=16\n",
        "mcd(24,16)=mcd(16,8)=8\n",
        "\n",
        "24=16*1 + 8\n",
        "16=8*2 + 0 , como el resto es 0, 8 es el mayor divisor\n"
      ]
    },
    {
      "cell_type": "code",
      "metadata": {
        "colab": {
          "base_uri": "https://localhost:8080/"
        },
        "id": "Hps7CoU8Iieu",
        "outputId": "50a76780-a286-493e-9a3d-0bdbc565f0e4"
      },
      "source": [
        "def mcd(a,b):\n",
        "    \"\"\"asumo que a>b\"\"\"\n",
        "    if a%b==0:\n",
        "        return b\n",
        "\n",
        "    return mcd(b,a%b)\n",
        "\n",
        "a=64\n",
        "b=30\n",
        "print('mcd({},{})={}'.format(a,b,mcd(a,b)))\n",
        "\n",
        "a=1032\n",
        "b=180\n",
        "print('mcd({},{})={}'.format(a,b,mcd(a,b)))"
      ],
      "execution_count": 232,
      "outputs": [
        {
          "output_type": "stream",
          "text": [
            "mcd(64,30)=2\n",
            "mcd(1032,180)=12\n"
          ],
          "name": "stdout"
        }
      ]
    },
    {
      "cell_type": "markdown",
      "metadata": {
        "id": "vTWGQMTo706A"
      },
      "source": [
        "## Tamaño de una carpeta (recursiva)\n"
      ]
    },
    {
      "cell_type": "code",
      "metadata": {
        "colab": {
          "base_uri": "https://localhost:8080/"
        },
        "id": "WlPiqnfw70B5",
        "outputId": "b238523b-5495-495f-cacb-4ba35f2cf168"
      },
      "source": [
        "#If your run from google colab:\n",
        "from google.colab import drive\n",
        "drive.mount(\"/content/drive/\")\n",
        "\n"
      ],
      "execution_count": 198,
      "outputs": [
        {
          "output_type": "stream",
          "text": [
            "Drive already mounted at /content/drive/; to attempt to forcibly remount, call drive.mount(\"/content/drive/\", force_remount=True).\n"
          ],
          "name": "stdout"
        }
      ]
    },
    {
      "cell_type": "code",
      "metadata": {
        "colab": {
          "base_uri": "https://localhost:8080/"
        },
        "id": "RxW5eHVY8lbm",
        "outputId": "34dfb0d7-8577-4d62-b2b0-b18f42c6b461"
      },
      "source": [
        "import os.path\n",
        "\n",
        "def numFiles(dir_path):\n",
        "    if os.path.exists(dir_path)==False:\n",
        "        print(dir_path + ' does not exist')\n",
        "        return 0\n",
        "\n",
        "\n",
        "    if os.path.isfile(dir_path):\n",
        "        return 1\n",
        "    else:\n",
        "        result=1\n",
        "        for f in os.listdir(dir_path):\n",
        "            result+= numFiles(dir_path + '/' + f)\n",
        "        return result\n",
        "\n",
        "root='drive/My Drive/Colab Notebooks/EDA/prueba/'\n",
        "print('número de ficheros y directorios en \"{}\": {}'.format(root,numFiles(root)))"
      ],
      "execution_count": 221,
      "outputs": [
        {
          "output_type": "stream",
          "text": [
            "número de ficheros y directorios en \"drive/My Drive/Colab Notebooks/EDA/prueba/\": 8\n"
          ],
          "name": "stdout"
        }
      ]
    },
    {
      "cell_type": "code",
      "metadata": {
        "colab": {
          "base_uri": "https://localhost:8080/"
        },
        "id": "Y9UmtF2hBxbJ",
        "outputId": "bf99eb0a-952c-41f4-a23c-8a98ba40e0e5"
      },
      "source": [
        "import os.path\n",
        "\n",
        "def getsize(dir_path):\n",
        "    if os.path.exists(dir_path)==False:\n",
        "        print(folder + ' does not exist')\n",
        "        return 0\n",
        "\n",
        "\n",
        "    if os.path.isfile(dir_path):\n",
        "        return os.path.getsize(dir_path)\n",
        "    else:\n",
        "        result=0\n",
        "        for f in os.listdir(dir_path):\n",
        "            result+= getsize(dir_path + '/' + f)\n",
        "        return result\n",
        "\n",
        "root='drive/My Drive/Colab Notebooks/EDA/prueba/'\n",
        "print('tamaño de \"{}\": {} KB'.format(root,getsize(root)))"
      ],
      "execution_count": 223,
      "outputs": [
        {
          "output_type": "stream",
          "text": [
            "tamaño de \"drive/My Drive/Colab Notebooks/EDA/prueba/\": 755 KB\n"
          ],
          "name": "stdout"
        }
      ]
    }
  ]
}
