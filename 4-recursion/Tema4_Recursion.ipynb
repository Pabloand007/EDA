{
  "nbformat": 4,
  "nbformat_minor": 0,
  "metadata": {
    "colab": {
      "name": "Tema4-Recursion.ipynb",
      "provenance": [],
      "collapsed_sections": [],
      "authorship_tag": "ABX9TyNmttj5Tl7Ic8MrgXu1yqDP",
      "include_colab_link": true
    },
    "kernelspec": {
      "name": "python3",
      "display_name": "Python 3"
    }
  },
  "cells": [
    {
      "cell_type": "markdown",
      "metadata": {
        "id": "view-in-github",
        "colab_type": "text"
      },
      "source": [
        "<a href=\"https://colab.research.google.com/github/isegura/EDA/blob/master/Tema4_Recursion.ipynb\" target=\"_parent\"><img src=\"https://colab.research.google.com/assets/colab-badge.svg\" alt=\"Open In Colab\"/></a>"
      ]
    },
    {
      "cell_type": "markdown",
      "metadata": {
        "id": "OsANuqnCXoM5"
      },
      "source": [
        "# Recursión\n",
        "\n",
        "## Suma los números de 1 a N (solución recursiva)"
      ]
    },
    {
      "cell_type": "code",
      "metadata": {
        "colab": {
          "base_uri": "https://localhost:8080/"
        },
        "id": "XAv0WQeOZtQK",
        "outputId": "f1cd7714-3889-4de7-83be-b74b98e9602e"
      },
      "source": [
        "def sumN(n):\n",
        "    \"\"\"versión iterativa\"\"\"\n",
        "    result=0\n",
        "    for i in range(1,n+1):\n",
        "        result+=i\n",
        "    return result\n",
        "\n",
        "n=5\n",
        "print(\"sumN({})={}\".format(n,sumN(n)))\n"
      ],
      "execution_count": 1,
      "outputs": [
        {
          "output_type": "stream",
          "text": [
            "sumN(5)=15\n"
          ],
          "name": "stdout"
        }
      ]
    },
    {
      "cell_type": "code",
      "metadata": {
        "colab": {
          "base_uri": "https://localhost:8080/"
        },
        "id": "1eiSNJ5ZXT3i",
        "outputId": "e846b38f-4aef-4d0a-e55b-3c3ad438fc9e"
      },
      "source": [
        "def sumN(n):\n",
        "    \"\"\"versión recursiva\"\"\"\n",
        "    if n==1:\n",
        "        return 1\n",
        "    else:\n",
        "        return n + sumN(n-1)\n",
        "\n",
        "n=5\n",
        "print(\"sumN({})={}\".format(n,sumN(n)))\n"
      ],
      "execution_count": 2,
      "outputs": [
        {
          "output_type": "stream",
          "text": [
            "sumN(5)=15\n"
          ],
          "name": "stdout"
        }
      ]
    },
    {
      "cell_type": "markdown",
      "metadata": {
        "id": "SLe1XL_BYN90"
      },
      "source": [
        "## Factorial (solución recursiva)\n"
      ]
    },
    {
      "cell_type": "code",
      "metadata": {
        "colab": {
          "base_uri": "https://localhost:8080/"
        },
        "id": "DIvDkmYuaA6-",
        "outputId": "8ffd7a5d-3e39-40d7-91b7-303c5f4c4ab9"
      },
      "source": [
        "def factorial(n):\n",
        "    \"\"\"versión iterativa\"\"\"\n",
        "    result=1\n",
        "    for i in range(1,n+1):\n",
        "        result*=i\n",
        "    return result\n",
        "\n",
        "n=5\n",
        "print(\"factorial({})={}\".format(n,factorial(n)))        "
      ],
      "execution_count": 3,
      "outputs": [
        {
          "output_type": "stream",
          "text": [
            "factorial(5)=120\n"
          ],
          "name": "stdout"
        }
      ]
    },
    {
      "cell_type": "code",
      "metadata": {
        "colab": {
          "base_uri": "https://localhost:8080/"
        },
        "id": "lzeMP8VzYQsW",
        "outputId": "45cb38a3-1b3c-42b7-a408-039e02ca7c0b"
      },
      "source": [
        "def factorial(n):\n",
        "    \"\"\"versión recursiva\"\"\"\n",
        "    if n==1:\n",
        "        return 1\n",
        "    else:\n",
        "        return n*factorial(n-1)\n",
        "\n",
        "\n",
        "n=5\n",
        "print(\"factorial({})={}\".format(n,factorial(n)))        "
      ],
      "execution_count": 4,
      "outputs": [
        {
          "output_type": "stream",
          "text": [
            "factorial(5)=120\n"
          ],
          "name": "stdout"
        }
      ]
    },
    {
      "cell_type": "markdown",
      "metadata": {
        "id": "BYzioxxwYu5I"
      },
      "source": [
        "## Potencia (solución recursiva)"
      ]
    },
    {
      "cell_type": "code",
      "metadata": {
        "colab": {
          "base_uri": "https://localhost:8080/"
        },
        "id": "9Rc4P0hnlJsF",
        "outputId": "1a4cc034-c0c9-4386-ab31-c4ba074bfef8"
      },
      "source": [
        "def potencia(a,n):\n",
        "    \"\"\"versión iterativa\"\"\"\n",
        "    result=1\n",
        "\n",
        "    for i in range(n):\n",
        "        result*=a\n",
        "\n",
        "    return result\n",
        "\n",
        "\n",
        "a=2\n",
        "n=0\n",
        "print(\"potencia({},{})={}\".format(a,n,potencia(a,n)))    "
      ],
      "execution_count": 5,
      "outputs": [
        {
          "output_type": "stream",
          "text": [
            "potencia(2,0)=1\n"
          ],
          "name": "stdout"
        }
      ]
    },
    {
      "cell_type": "code",
      "metadata": {
        "colab": {
          "base_uri": "https://localhost:8080/"
        },
        "id": "fbjVeCmxY2QP",
        "outputId": "d684408c-e0f5-4d6e-a06e-7a453e3b312f"
      },
      "source": [
        "def potencia(a,n):\n",
        "    \"\"\"versión recursiva\"\"\"\n",
        "\n",
        "    if n==0:\n",
        "        return 1\n",
        "    else:\n",
        "        return a * potencia(a,n-1)\n",
        "\n",
        "a=5\n",
        "n=3\n",
        "print(\"potencia({},{})={}\".format(a,n,potencia(a,n)))    "
      ],
      "execution_count": 6,
      "outputs": [
        {
          "output_type": "stream",
          "text": [
            "potencia(5,3)=125\n"
          ],
          "name": "stdout"
        }
      ]
    },
    {
      "cell_type": "markdown",
      "metadata": {
        "id": "cFj9bpvr3bKO"
      },
      "source": [
        "## Multiplicación basada en suma\n"
      ]
    },
    {
      "cell_type": "code",
      "metadata": {
        "colab": {
          "base_uri": "https://localhost:8080/"
        },
        "id": "0vigw5Ns3dlG",
        "outputId": "329a8496-9408-4742-f357-4ab0ff9f6712"
      },
      "source": [
        "def producto_suma(a,b):\n",
        "    \"\"\"devuelve a*b=sumar a b veces\"\"\"\n",
        "    result=0\n",
        "    for i in range(b):\n",
        "        result+=a\n",
        "\n",
        "    return result\n",
        "\n",
        "a=5\n",
        "b=4\n",
        "print('producto_suma({},{})={}'.format(a,b,producto_suma(a,b)))\n"
      ],
      "execution_count": 7,
      "outputs": [
        {
          "output_type": "stream",
          "text": [
            "producto_suma(5,4)=20\n"
          ],
          "name": "stdout"
        }
      ]
    },
    {
      "cell_type": "code",
      "metadata": {
        "colab": {
          "base_uri": "https://localhost:8080/"
        },
        "id": "Pn_kVVEl4cfg",
        "outputId": "0872dac1-3893-4810-b9a2-2787d0d85f02"
      },
      "source": [
        "def producto_suma(a,b):\n",
        "    \"\"\"devuelve a*b=sumar a b veces; recursivo\"\"\"\n",
        "    if b==0:\n",
        "        return a\n",
        "    else:\n",
        "        return a+(producto_suma(a,b-1))\n",
        "\n",
        "a=5\n",
        "b=1\n",
        "print('producto_suma({},{})={}'.format(a,b,producto_suma(a,b)))\n"
      ],
      "execution_count": 8,
      "outputs": [
        {
          "output_type": "stream",
          "text": [
            "producto_suma(5,1)=10\n"
          ],
          "name": "stdout"
        }
      ]
    },
    {
      "cell_type": "markdown",
      "metadata": {
        "id": "3dgMz8YDkjNH"
      },
      "source": [
        "## Sumar elementos de un array (solución recursiva)\n",
        "Un array es una lista de Python"
      ]
    },
    {
      "cell_type": "code",
      "metadata": {
        "colab": {
          "base_uri": "https://localhost:8080/"
        },
        "id": "WRj6yXaakmcB",
        "outputId": "aa6d27e2-b361-4848-ae0c-fbff83231cb2"
      },
      "source": [
        "def sumArray(data):\n",
        "    \"\"\"versión iterativa\"\"\"\n",
        "    result=0\n",
        "    for e in data:\n",
        "        result += e\n",
        "    \n",
        "    return result\n",
        "\n",
        "\n",
        "a=[3,5,2,0,-5]\n",
        "print(\"sumArray({})={}\".format(a,sumArray(a)))     \n"
      ],
      "execution_count": 9,
      "outputs": [
        {
          "output_type": "stream",
          "text": [
            "sumArray([3, 5, 2, 0, -5])=5\n"
          ],
          "name": "stdout"
        }
      ]
    },
    {
      "cell_type": "code",
      "metadata": {
        "colab": {
          "base_uri": "https://localhost:8080/"
        },
        "id": "AnrENra5lGt3",
        "outputId": "a74d57c4-d229-4c80-e63f-a81c984c2680"
      },
      "source": [
        "def sumArray(data):\n",
        "    \"\"\"versión recursiva\"\"\"\n",
        "    if data==None or len(data)==0:\n",
        "        return 0\n",
        "    else:\n",
        "        return data[0]+sumArray(data[1:])\n",
        "\n",
        "\n",
        "\n",
        "a=[3,5,2,0,-5]\n",
        "print(\"sumArray({})={}\".format(a,sumArray(a)))     \n"
      ],
      "execution_count": 10,
      "outputs": [
        {
          "output_type": "stream",
          "text": [
            "sumArray([3, 5, 2, 0, -5])=5\n"
          ],
          "name": "stdout"
        }
      ]
    },
    {
      "cell_type": "code",
      "metadata": {
        "colab": {
          "base_uri": "https://localhost:8080/"
        },
        "id": "DyU1AGoGl2ud",
        "outputId": "a38c22a6-4d86-4bc6-ac33-37b65712db61"
      },
      "source": [
        "def sumArray(data,i=0):\n",
        "    \"\"\"versión recursiva; sin modificar data\"\"\"\n",
        "    if data==None or len(data)==0:\n",
        "        return 0\n",
        "\n",
        "    if i==len(data)-1:\n",
        "        return data[i]\n",
        "    else:\n",
        "        return data[i]+sumArray(data,i+1)\n",
        "\n",
        "\n",
        "\n",
        "a=[2,3,5,7]\n",
        "print(\"sumArray({})={}\".format(a,sumArray(a)))    "
      ],
      "execution_count": 12,
      "outputs": [
        {
          "output_type": "stream",
          "text": [
            "sumArray([2, 3, 5, 7])=17\n"
          ],
          "name": "stdout"
        }
      ]
    },
    {
      "cell_type": "markdown",
      "metadata": {
        "id": "c8zvA7oFmsD5"
      },
      "source": [
        "## Encontrar el elemento mayor en un array (solución recursiva)"
      ]
    },
    {
      "cell_type": "code",
      "metadata": {
        "colab": {
          "base_uri": "https://localhost:8080/"
        },
        "id": "6BgaCz7dmzg8",
        "outputId": "79a25c92-b12a-49bf-91b7-11b32078519b"
      },
      "source": [
        "import sys\n",
        "\n",
        "def findMaximum(data):\n",
        "    \"\"\"versión iterativa\"\"\"\n",
        "    maximum=-sys.maxsize #refers to the maximum size of lists and strings in Python\n",
        "    for e in data:\n",
        "        if e>maximum:\n",
        "            maximum=e\n",
        "\n",
        "    return maximum\n",
        "\n",
        "\n",
        "a=[3,5,2,0,-5,10]\n",
        "print(\"findMaximum({})={}\".format(a,findMaximum(a)))     "
      ],
      "execution_count": 13,
      "outputs": [
        {
          "output_type": "stream",
          "text": [
            "findMaximum([3, 5, 2, 0, -5, 10])=10\n"
          ],
          "name": "stdout"
        }
      ]
    },
    {
      "cell_type": "code",
      "metadata": {
        "colab": {
          "base_uri": "https://localhost:8080/"
        },
        "id": "LCuvNZVbnHRY",
        "outputId": "981be30b-14a8-4656-d526-a216669013d0"
      },
      "source": [
        "def findMaximum(data):\n",
        "    \"\"\"versión recursiva\"\"\"\n",
        "    if data==None or len(data)==0:\n",
        "        return None\n",
        "    elif len(data)==1:\n",
        "        return data[0]\n",
        "    else:\n",
        "        return max(data[0],findMaximum(data[1:]))\n",
        "\n",
        "\n",
        "\n",
        "a=[3,5,2,0,-5,10]\n",
        "print(\"findMaximum({})={}\".format(a,findMaximum(a)))    \n"
      ],
      "execution_count": 15,
      "outputs": [
        {
          "output_type": "stream",
          "text": [
            "findMaximum([3, 5, 2, 0, -5, 10])=10\n"
          ],
          "name": "stdout"
        }
      ]
    },
    {
      "cell_type": "code",
      "metadata": {
        "id": "Yr831EpFoGB8",
        "colab": {
          "base_uri": "https://localhost:8080/"
        },
        "outputId": "ded7344d-762d-4431-dbb8-a433ea7b0808"
      },
      "source": [
        "\n",
        "def findMaximum(data, i=0):\n",
        "    \"\"\"versión recursiva; sin modificar data\"\"\"\n",
        "    if data==None or len(data)==0:\n",
        "        return None\n",
        "    elif i==len(data)-1:\n",
        "        return data[i]\n",
        "    else:\n",
        "        return max(data[i],findMaximum(data[i+1:]))\n",
        "\n",
        "\n",
        "\n",
        "a=[10,5,-3,-100]\n",
        "print(\"findMaximum({})={}\".format(a,findMaximum(a)))     "
      ],
      "execution_count": 16,
      "outputs": [
        {
          "output_type": "stream",
          "text": [
            "findMaximum([10, 5, -3, -100])=10\n"
          ],
          "name": "stdout"
        }
      ]
    },
    {
      "cell_type": "markdown",
      "metadata": {
        "id": "X6XAcOMAoBGa"
      },
      "source": [
        "## Comprobar si una palabra es palíndroma (versión recursiva)\n"
      ]
    },
    {
      "cell_type": "code",
      "metadata": {
        "colab": {
          "base_uri": "https://localhost:8080/"
        },
        "id": "Zss7NBevpK9e",
        "outputId": "797e043c-39e2-4927-803a-6a6827fd76c3"
      },
      "source": [
        "def isPalindrome(s):\n",
        "    \"versión iterativa\"\n",
        "    if s==None:\n",
        "        return False\n",
        "\n",
        "    for i in range(len(s)):\n",
        "        if s[i]!=s[len(s)-1-i]:\n",
        "            return False\n",
        "\n",
        "    return True\n",
        "\n",
        "word=\"abdcba\"\n",
        "print(\"isPalindrome({})={}\".format(word,isPalindrome(word)))     "
      ],
      "execution_count": 17,
      "outputs": [
        {
          "output_type": "stream",
          "text": [
            "isPalindrome(abdcba)=False\n"
          ],
          "name": "stdout"
        }
      ]
    },
    {
      "cell_type": "code",
      "metadata": {
        "colab": {
          "base_uri": "https://localhost:8080/"
        },
        "id": "bx6qjtvcovlb",
        "outputId": "49725b52-b118-418d-8ee1-a38ffb95af5b"
      },
      "source": [
        "def isPalindrome(s):\n",
        "    \"\"\"versión recursiva\"\"\"\n",
        "    if s==None:\n",
        "        return False\n",
        "    elif len(s)==0:\n",
        "        return True\n",
        "    else:\n",
        "        return s[0]==s[len(s)-1] and isPalindrome(s[1:-1])\n",
        "\n",
        "word='abcba'\n",
        "print(\"isPalindrome({})={}\".format(word,isPalindrome(word)))     "
      ],
      "execution_count": null,
      "outputs": [
        {
          "output_type": "stream",
          "text": [
            "isPalindrome(abcba)=True\n"
          ],
          "name": "stdout"
        }
      ]
    },
    {
      "cell_type": "code",
      "metadata": {
        "colab": {
          "base_uri": "https://localhost:8080/"
        },
        "id": "ek1fUWFdp6W4",
        "outputId": "724f7e44-4f6b-48be-ac7c-d6959732827f"
      },
      "source": [
        "def isPalindrome(s,i=0):\n",
        "    \"\"\"versión recursiva; sin modificar la palabra\"\"\"\n",
        "    if s==None:\n",
        "        return False\n",
        "    elif len(s)==0:\n",
        "        return True\n",
        "    elif i==len(s)-1:\n",
        "        return True\n",
        "    else:\n",
        "        return s[i]==s[len(s)-1-i] and isPalindrome(s,i+1)\n",
        "\n",
        "word='aba'\n",
        "print(\"isPalindrome({})={}\".format(word,isPalindrome(word)))     "
      ],
      "execution_count": 31,
      "outputs": [
        {
          "output_type": "stream",
          "text": [
            "isPalindrome(aba)=True\n"
          ],
          "name": "stdout"
        }
      ]
    },
    {
      "cell_type": "code",
      "metadata": {
        "colab": {
          "base_uri": "https://localhost:8080/"
        },
        "id": "32r_rOHE6kwF",
        "outputId": "d760ebe5-e3cf-4d8d-ef51-f324fbd25071"
      },
      "source": [
        "def isPalindrome(s):\n",
        "    if s==None:\n",
        "        return False\n",
        "\n",
        "    return _isPalindrome(s,0,len(s)-1)\n",
        "\n",
        "def _isPalindrome(s,i,j):\n",
        "    \"\"\"versión recursiva; sin modificar la palabra\"\"\"\n",
        "    \n",
        "    if i<j:\n",
        "        return s[i]==s[j] and _isPalindrome(s,i+1,j-1)\n",
        "    return True\n",
        "\n",
        "word='abcbda'\n",
        "print(\"isPalindrome({})={}\".format(word,isPalindrome(word)))     "
      ],
      "execution_count": 51,
      "outputs": [
        {
          "output_type": "stream",
          "text": [
            "isPalindrome(abcbda)=False\n"
          ],
          "name": "stdout"
        }
      ]
    },
    {
      "cell_type": "markdown",
      "metadata": {
        "id": "iHHLcaOKrDb3"
      },
      "source": [
        "## Comprobar si un array está ordenado de menor a mayor"
      ]
    },
    {
      "cell_type": "code",
      "metadata": {
        "colab": {
          "base_uri": "https://localhost:8080/"
        },
        "id": "DDPDLKI6rG--",
        "outputId": "e2d4570b-b2c3-4024-deb6-25eac8b6daa3"
      },
      "source": [
        "def isSorted(data):\n",
        "    \"\"\"versión iterativa\"\"\"\n",
        "    if data==None:\n",
        "        return False\n",
        "    \n",
        "    for i in range(len(data)-2):\n",
        "        if data[i]>data[i+1]:\n",
        "            return False\n",
        "\n",
        "    return True\n",
        "\n",
        "a=[]\n",
        "print(\"isSorted({})={}\".format(a,isSorted(a)))     "
      ],
      "execution_count": 52,
      "outputs": [
        {
          "output_type": "stream",
          "text": [
            "isSorted([])=True\n"
          ],
          "name": "stdout"
        }
      ]
    },
    {
      "cell_type": "code",
      "metadata": {
        "colab": {
          "base_uri": "https://localhost:8080/"
        },
        "id": "4APq1oj1rnWn",
        "outputId": "8e1eb65f-53d4-471b-e680-88fa5fea722c"
      },
      "source": [
        "def isSorted(data):\n",
        "    \"\"\"versión recursiva\"\"\"\n",
        "    if data==None:\n",
        "        return False\n",
        "    \n",
        "    if len(data)<=1:\n",
        "        return True\n",
        "    else:\n",
        "        return data[0]<=data[1] and isSorted(data[1:])\n",
        "\n",
        "\n",
        "\n",
        "a=[1]\n",
        "print(\"isSorted({})={}\".format(a,isSorted(a)))"
      ],
      "execution_count": 57,
      "outputs": [
        {
          "output_type": "stream",
          "text": [
            "isSorted([1])=True\n"
          ],
          "name": "stdout"
        }
      ]
    },
    {
      "cell_type": "code",
      "metadata": {
        "colab": {
          "base_uri": "https://localhost:8080/"
        },
        "id": "6q6LXB4pr98G",
        "outputId": "d886230f-08e3-4cb3-ab2b-b681c5136a11"
      },
      "source": [
        "def isSorted(data,i=0):\n",
        "    \"\"\"versión recursiva; sin modificar data\"\"\"\n",
        "    if data==None:\n",
        "        return False\n",
        "    \n",
        "    if len(data)==0:\n",
        "        return True\n",
        "    elif i==len(data)-1:\n",
        "        return True\n",
        "    else:\n",
        "        return data[i]<=data[i+1] and isSorted(data[i+1:])\n",
        "\n",
        "\n",
        "\n",
        "a=[1,5,8,9]\n",
        "print(\"isSorted({})={}\".format(a,isSorted(a)))"
      ],
      "execution_count": 62,
      "outputs": [
        {
          "output_type": "stream",
          "text": [
            "isSorted([1, 5, 8, 9])=True\n"
          ],
          "name": "stdout"
        }
      ]
    },
    {
      "cell_type": "markdown",
      "metadata": {
        "id": "ZO4icYCxsMZQ"
      },
      "source": [
        "## Búsqueda binaria \n",
        "Busca un elemento en un array ordenado de menor a mayor"
      ]
    },
    {
      "cell_type": "code",
      "metadata": {
        "colab": {
          "base_uri": "https://localhost:8080/"
        },
        "id": "GBRQ2FC3sLv8",
        "outputId": "32e7d4d8-ac51-4a9d-b2a1-36b4807ba319"
      },
      "source": [
        "def binarySearch(x,data):\n",
        "    \"\"\"versión iterativa\"\"\"\n",
        "    if isSorted(data)==False:\n",
        "        print(data, \" no está ordenado!!!\")\n",
        "        return False\n",
        "\n",
        "    if len(data)==0:\n",
        "        return False\n",
        "\n",
        "\n",
        "    start=0\n",
        "    end=len(data)-1\n",
        "    \n",
        "    while start<=end:\n",
        "        m=(start+end)//2\n",
        "        if x==data[m]:\n",
        "            return True\n",
        "        elif x<data[m]:\n",
        "            end=m-1\n",
        "        else:\n",
        "            start=m+1\n",
        "    return False\n",
        "\n",
        "x=2   \n",
        "a=[-1,0,1,4,5]\n",
        "print(\"binarySearch({},{})={}\".format(x,a,binarySearch(x,a)))"
      ],
      "execution_count": 69,
      "outputs": [
        {
          "output_type": "stream",
          "text": [
            "binarySearch(2,[-1, 0, 1, 4, 5])=False\n"
          ],
          "name": "stdout"
        }
      ]
    },
    {
      "cell_type": "code",
      "metadata": {
        "colab": {
          "base_uri": "https://localhost:8080/"
        },
        "id": "EAYlHr-1v3Tz",
        "outputId": "decd4946-8406-4418-c910-4b8cbd052116"
      },
      "source": [
        "def binarySearch(x,data):\n",
        "    \"\"\"versión recursiva\"\"\"\n",
        "    if isSorted(data)==False:\n",
        "        print(data, \" no está ordenado!!!\")\n",
        "        return None\n",
        "\n",
        "    if len(data)==0:\n",
        "        return False\n",
        "\n",
        "\n",
        "    m=len(data)//2\n",
        "    if x==data[m]:\n",
        "        return True\n",
        "\n",
        "    if x<data[m]:\n",
        "        return binarySearch(x,data[0:m])\n",
        "    else:\n",
        "        return binarySearch(x,data[m+1:])\n",
        "\n",
        "\n",
        "x=3   \n",
        "a=[-5,0,1,3,8]\n",
        "print(\"binarySearch({},{})={}\".format(x,a,binarySearch(x,a)))"
      ],
      "execution_count": 77,
      "outputs": [
        {
          "output_type": "stream",
          "text": [
            "binarySearch(3,[-5, 0, 1, 3, 8])=True\n"
          ],
          "name": "stdout"
        }
      ]
    },
    {
      "cell_type": "code",
      "metadata": {
        "colab": {
          "base_uri": "https://localhost:8080/"
        },
        "id": "3Kjimcc7wV5M",
        "outputId": "5d08013c-e798-4bab-dfc2-71cc01400e3f"
      },
      "source": [
        "def binarySearch(x,data):\n",
        "    return _binarySearch(x,data,0,len(data)-1)\n",
        "\n",
        "def _binarySearch(x,data, i, j):\n",
        "    \"\"\"versión recursiva: devuelve el index\"\"\"\n",
        "    if isSorted(data)==False:\n",
        "        print(data, \" no está ordenado!!!\")\n",
        "        return -1\n",
        "\n",
        "    if len(data)==0:\n",
        "        return -1\n",
        "\n",
        "\n",
        "    m=(i+j)//2\n",
        "    if x==data[m]:\n",
        "        return m\n",
        "\n",
        "    if x<data[m]:\n",
        "        return _binarySearch(x,data,i,m-1)\n",
        "    else:\n",
        "        return _binarySearch(x,data,m+1,j)\n",
        "\n",
        "\n",
        "x=8  \n",
        "a=[-1,0,1,3,8]\n",
        "print(\"binarySearch({},{})={}\".format(x,a,binarySearch(x,a)))"
      ],
      "execution_count": 82,
      "outputs": [
        {
          "output_type": "stream",
          "text": [
            "binarySearch(8,[-1, 0, 1, 3, 8])=4\n"
          ],
          "name": "stdout"
        }
      ]
    },
    {
      "cell_type": "markdown",
      "metadata": {
        "id": "syxUCkjOzNTt"
      },
      "source": [
        "## Invertir un array\n"
      ]
    },
    {
      "cell_type": "code",
      "metadata": {
        "colab": {
          "base_uri": "https://localhost:8080/"
        },
        "id": "e2jwD2gvzPFF",
        "outputId": "f08d55e1-1d38-4a66-a56e-c0aa9d150500"
      },
      "source": [
        "def reverse(data):\n",
        "    \"\"\"versión iterativa\"\"\"\n",
        "    for i in range(len(data)//2):\n",
        "        data[i], data[len(data)-1-i] = data[len(data)-1-i], data[i]\n",
        "\n",
        "\n",
        "a=[1,2,3]\n",
        "\n",
        "print(a)\n",
        "reverse(a)\n",
        "print(a)"
      ],
      "execution_count": 83,
      "outputs": [
        {
          "output_type": "stream",
          "text": [
            "[1, 2, 3]\n",
            "[3, 2, 1]\n"
          ],
          "name": "stdout"
        }
      ]
    },
    {
      "cell_type": "code",
      "metadata": {
        "colab": {
          "base_uri": "https://localhost:8080/"
        },
        "id": "Zibrx88g9JCh",
        "outputId": "97292133-5fdb-4954-e95b-1f7e585a3d5d"
      },
      "source": [
        "\n",
        "def reverse(data,i=0):\n",
        "    \"\"\"versión recursiva; modificando data\"\"\"\n",
        "    \n",
        "    if len(data)<=0:\n",
        "        pass\n",
        "    else:\n",
        "        x=data.pop(0)\n",
        "        reverse(data)\n",
        "        data.append(x)\n",
        "\n",
        "\n",
        "a=[1,3,5,4,5]\n",
        "\n",
        "print(a)\n",
        "reverse(a)\n",
        "print(a)"
      ],
      "execution_count": 96,
      "outputs": [
        {
          "output_type": "stream",
          "text": [
            "[1, 3, 5, 4, 5]\n",
            "[5, 4, 5, 3, 1]\n"
          ],
          "name": "stdout"
        }
      ]
    },
    {
      "cell_type": "code",
      "metadata": {
        "colab": {
          "base_uri": "https://localhost:8080/"
        },
        "id": "O7U1k97T2Utf",
        "outputId": "f147b347-43ce-4853-ef1d-e942875ac1c1"
      },
      "source": [
        "def reverse(data):\n",
        "    _reverse(data,0,len(data)-1)\n",
        "\n",
        "def _reverse(data,i,j):\n",
        "    \"\"\"versión recursiva; sin modificar data\"\"\"\n",
        "    if i<j:\n",
        "        data[i], data[j] = data[j], data[i]\n",
        "        _reverse(data,i+1,j-1)\n",
        "\n",
        "\n",
        "a=[1,3,5,4]\n",
        "\n",
        "print(a)\n",
        "reverse(a)\n",
        "print(a)"
      ],
      "execution_count": 98,
      "outputs": [
        {
          "output_type": "stream",
          "text": [
            "[1, 3, 5, 4]\n",
            "[4, 5, 3, 1]\n"
          ],
          "name": "stdout"
        }
      ]
    },
    {
      "cell_type": "markdown",
      "metadata": {
        "id": "Czt2t0mc4y5p"
      },
      "source": [
        "#Contar número de veces de un digito en un número\n",
        "\n",
        "Si divides un número entre 10, su resto será igual al último dígito del número. \n",
        "\n",
        "n=2353 % 10 = 3\n",
        "235 // 10 = 235 \n",
        "\n",
        "\n",
        "Esto te permite ir obteniendo las unidades (el último dígito). \n",
        "\n",
        "La llamada recursiva se debe hacer sobre el cociente (n//10), que será el número compuesto por los otros dígitos excepto la unidad. \n",
        "\n",
        "De esta forma, es sencilla contar cuántas veces un dígito ocurre en un número\n",
        "\n"
      ]
    },
    {
      "cell_type": "code",
      "metadata": {
        "colab": {
          "base_uri": "https://localhost:8080/"
        },
        "id": "luRXbjb73WKf",
        "outputId": "e2e821b6-7e62-4732-aae7-2daec0e8a5eb"
      },
      "source": [
        "def count3(n):\n",
        "    \"\"\"versión recursiva\"\"\"\n",
        "    if type(n)!=int or n<0:\n",
        "        print(n, \" debe ser positivo\")\n",
        "        return -1\n",
        "\n",
        "    if n==3:\n",
        "        return 1\n",
        "    elif n<10:\n",
        "        return 0\n",
        "    else:\n",
        "        if n%10==3:\n",
        "            return 1 + count3(n//10)\n",
        "        else:\n",
        "            return count3(n//10)\n",
        "\n",
        "for n in [0,3,9,10,13,15,315,135,153,133,313,331,1333,3133,3313,3331]:\n",
        "    print(\"count3({})={}\".format(n,count3(n)))"
      ],
      "execution_count": 104,
      "outputs": [
        {
          "output_type": "stream",
          "text": [
            "count3(0)=0\n",
            "count3(3)=1\n",
            "count3(9)=0\n",
            "count3(10)=0\n",
            "count3(13)=1\n",
            "count3(15)=0\n",
            "count3(315)=1\n",
            "count3(135)=1\n",
            "count3(153)=1\n",
            "count3(133)=2\n",
            "count3(313)=2\n",
            "count3(331)=2\n",
            "count3(1333)=3\n",
            "count3(3133)=3\n",
            "count3(3313)=3\n",
            "count3(3331)=3\n"
          ],
          "name": "stdout"
        }
      ]
    },
    {
      "cell_type": "code",
      "metadata": {
        "colab": {
          "base_uri": "https://localhost:8080/"
        },
        "id": "QZDVobNX6lmp",
        "outputId": "c6444f09-422e-4d36-8a77-eb69e0ad692b"
      },
      "source": [
        "def count(n,d):\n",
        "    \"\"\"versión recursiva\"\"\"\n",
        "    if type(n)!=int or n<0:\n",
        "        print(n, \" debe ser positivo\")\n",
        "        return -1\n",
        "\n",
        "    if n==d:\n",
        "        return 1\n",
        "    elif n<10:\n",
        "        return 0\n",
        "    else:\n",
        "        if n%10==d:\n",
        "            return 1 + count(n//10,d)\n",
        "        else:\n",
        "            return + count(n//10,d)\n",
        "d=1\n",
        "n=512151\n",
        "print(\"count({}{})={}\".format(n,d,count(n,d)))"
      ],
      "execution_count": 106,
      "outputs": [
        {
          "output_type": "stream",
          "text": [
            "count(5121511)=3\n"
          ],
          "name": "stdout"
        }
      ]
    },
    {
      "cell_type": "markdown",
      "metadata": {
        "id": "v2UU6fqv61Mc"
      },
      "source": [
        "#Sumar dígitos de un número\n",
        "\n",
        "La idea para resolver este problema es la misma ídea que la del anterior problema: usando %10 para obtener la unidad, y //10 para obtener el resto del número, que usarás en la llamada recursiva."
      ]
    },
    {
      "cell_type": "code",
      "metadata": {
        "colab": {
          "base_uri": "https://localhost:8080/"
        },
        "id": "U12wBsLR64BS",
        "outputId": "dd585a5d-4ca1-4e51-c276-40abcc9e71ee"
      },
      "source": [
        "def sum_digitos(n):\n",
        "    \"\"\"versión recursiva\"\"\"\n",
        "    if type(n)!=int or n<0:\n",
        "        print(n, \" debe ser positivo\")\n",
        "        return -1\n",
        "\n",
        "    if n<10:\n",
        "        return n\n",
        "    else:\n",
        "        return (n%10) + sum_digitos(n//10)\n",
        "n=358\n",
        "print(\"sum_digitos({})={}\".format(n,sum_digitos(n)))"
      ],
      "execution_count": null,
      "outputs": [
        {
          "output_type": "stream",
          "text": [
            "sum_digitos(358)=16\n"
          ],
          "name": "stdout"
        }
      ]
    },
    {
      "cell_type": "markdown",
      "metadata": {
        "id": "FwoONJ5h7Q8v"
      },
      "source": [
        "## Suma fibonnacci\n",
        "\n",
        "La implementación de este método es sencilla, pero muy ineficiente. A partir de n>35 (depende de la máquina), el método tarda muchísimo tiempo en converger a una solución. Esto es porque muchas llamadas recursivas se repiten innecesariamente.\n",
        "\n",
        "Para calcular f(10) necesitas calcular f(9) y f(8)\n",
        "Pero para calcular f(9), necesitas volver a calcular f(8) y f(7)\n",
        "Para calcular f(8), necesitas calcular f(7) y f(6)....\n",
        "\n",
        "Se te ocurre alguna versión más eficiente (puede ser iterativa). "
      ]
    },
    {
      "cell_type": "code",
      "metadata": {
        "colab": {
          "base_uri": "https://localhost:8080/"
        },
        "id": "F9ubWgUM7P6I",
        "outputId": "2dafd023-900c-4341-f231-1858620b1566"
      },
      "source": [
        "def fibo(n):\n",
        "    if n<0 or type(n)!=int:\n",
        "        return None\n",
        "\n",
        "    if n<=1:\n",
        "        return 1\n",
        "    else:\n",
        "        return fibo(n-1)+fibo(n-2)\n",
        "\n",
        "n=35 \n",
        "print(\"fibo({})={}\".format(n,fibo(n)))"
      ],
      "execution_count": 114,
      "outputs": [
        {
          "output_type": "stream",
          "text": [
            "fibo(35)=14930352\n"
          ],
          "name": "stdout"
        }
      ]
    },
    {
      "cell_type": "markdown",
      "metadata": {
        "id": "PSk4Z_n3CvJE"
      },
      "source": [
        "## Multiplicación Rusa\n",
        "\n",
        "Ver vídeo:\n",
        "https://www.youtube.com/watch?v=CfrjVY8U8-8\n",
        "\n",
        "\n",
        "<img src='https://i.stack.imgur.com/W7u9u.png'>\n",
        "\n"
      ]
    },
    {
      "cell_type": "code",
      "metadata": {
        "colab": {
          "base_uri": "https://localhost:8080/"
        },
        "id": "zxl2G8tzDdEM",
        "outputId": "aa37b926-734e-490a-da22-4219f3658223"
      },
      "source": [
        "def multiplicacion_rusa(a,b):\n",
        "    if a==0:\n",
        "        return 0\n",
        "    if a==1:\n",
        "        return b\n",
        "\n",
        "    if a%2!=0:\n",
        "        return b + multiplicacion_rusa(a//2,b*2)\n",
        "    else:\n",
        "        return multiplicacion_rusa(a//2,b*2)\n",
        "\n",
        "a=21\n",
        "b=7\n",
        "\n",
        "print('{}*{}={}'.format(a,b,a*b))\n",
        "print('multiplicacion_rusa({},{})={}'.format(a,b,multiplicacion_rusa(a,b)))"
      ],
      "execution_count": 115,
      "outputs": [
        {
          "output_type": "stream",
          "text": [
            "21*7=147\n",
            "multiplicacion_rusa(21,7)=147\n"
          ],
          "name": "stdout"
        }
      ]
    },
    {
      "cell_type": "markdown",
      "metadata": {
        "id": "JESvGTMPKWy4"
      },
      "source": [
        "# Comprueba si tiene más vocales que consonantes\n",
        "La función recibe un string y devuelve True si tiene más vocales que consonantes.\n",
        "\n",
        "La función moreVowels no es recursiva, pero se basa en una función recursiva para obtener el número de vocales que hay en una palabra"
      ]
    },
    {
      "cell_type": "code",
      "metadata": {
        "colab": {
          "base_uri": "https://localhost:8080/"
        },
        "id": "yCLmuohSKiQm",
        "outputId": "10aba053-4084-451b-c87b-378f7eac5f89"
      },
      "source": [
        "def isVowel(c):\n",
        "    return c.lower() in ['a','e','i','o','u']\n",
        "        \n",
        "def numVowels(s):\n",
        "    if s==None or len(s)==0:\n",
        "        return 0\n",
        "\n",
        "    if isVowel(s[0]):\n",
        "        return 1 + numVowels(s[1:])\n",
        "    else:\n",
        "        return numVowels(s[1:])\n",
        "\n",
        "def moreVowels(s):\n",
        "    return numVowels(s)>len(s)//2\n",
        "\n",
        "s='ibaabe'\n",
        "print('moreVowels({})={}'.format(s,moreVowels(s)))\n"
      ],
      "execution_count": null,
      "outputs": [
        {
          "output_type": "stream",
          "text": [
            "moreVowels(ibaabe)=True\n"
          ],
          "name": "stdout"
        }
      ]
    },
    {
      "cell_type": "markdown",
      "metadata": {
        "id": "xGSVAcL5GI_N"
      },
      "source": [
        "## Máximo Común divisor (Algoritmo de Euclídes)\n",
        "\n",
        "https://www.youtube.com/watch?v=036pOZO0hV4\n",
        "\n",
        "El algoritmo de euclídes afirma \n",
        "mcd(a,b) = mcd(b,a%b). \n",
        "\n",
        "\n",
        "\n",
        "si a=bc+r\n",
        "\n",
        "el mcd de a y b, también deberá ser el mcd de b y  r\n",
        "\n",
        "mcd(64,30) = mcd(30, 4) =mcd(4,2) = 2\n",
        "\n",
        "64 = 30*2 + 4\n",
        "\n",
        "30 = 4*7 + 2\n",
        "\n",
        "4= 2*2 + 0\n",
        "\n",
        "a=24\n",
        "b=16\n",
        "mcd(24,16)=mcd(16,8)=8\n",
        "\n",
        "24=16*1 + 8\n",
        "16=8*2 + 0 , como el resto es 0, 8 es el mayor divisor\n"
      ]
    },
    {
      "cell_type": "code",
      "metadata": {
        "colab": {
          "base_uri": "https://localhost:8080/"
        },
        "id": "Hps7CoU8Iieu",
        "outputId": "fc793fc6-2874-4ef6-974f-f474edc4b83d"
      },
      "source": [
        "def mcd(a,b):\n",
        "    \"\"\"asumo que a>b\"\"\"\n",
        "    if a%b==0:\n",
        "        return b\n",
        "\n",
        "    return mcd(b,a%b)\n",
        "\n",
        "a=64\n",
        "b=30\n",
        "print('mcd({},{})={}'.format(a,b,mcd(a,b)))\n",
        "\n",
        "a=1032\n",
        "b=180\n",
        "print('mcd({},{})={}'.format(a,b,mcd(a,b)))"
      ],
      "execution_count": 116,
      "outputs": [
        {
          "output_type": "stream",
          "text": [
            "mcd(64,30)=2\n",
            "mcd(1032,180)=12\n"
          ],
          "name": "stdout"
        }
      ]
    },
    {
      "cell_type": "markdown",
      "metadata": {
        "id": "vTWGQMTo706A"
      },
      "source": [
        "## Exploring file system by recursion \n",
        "\n",
        "Modern operating systems define file-system directories (also sometimes\n",
        "called “folders”) in a recursive way. \n",
        "\n",
        "Namely, a file system consists of a top-level directory, and the contents of this directory consists of files and other directories, which in turn can contain files and other directories, and so on. \n",
        "\n",
        "<img src='https://www.rs-online.com/designspark/rel-assets/dsauto/temp/uploaded/linux-filesystem.png?w=1042'/>\n",
        "\n",
        "Given the recursive nature of the file-system representation, many common behaviors of an operating system, such as copying a directory or deleting a directory, are implemented with recursive algorithms. \n",
        "\n",
        "The goal of this task is to compute the total disk usage for all files and directories nested within a particular directory.\n",
        "\n",
        "The cumulative disk space for a folder can be computed with a simple recursive algorithm. It is equal to the sum of the cumulative disk space usage of any folders that are stored directly within\n",
        "this folder.  \n",
        "\n",
        "You will need to use the Python **os** library , which allows us to interact with the operating system. In particular, you will need to the following four functions:\n",
        "- **os.path.getsize(path)**: return the immediate disk usage (measured in bytes) for the file or directory that is identified by the string path (e.g., /user/rt/courses).\n",
        "- **os.path.isdir(path)**: return True if entry designated by string path is a directory; False otherwise.\n",
        "- **os.listdir(path)**: return a list of strings that are the names of all entries within a directory designated by string path. \n",
        "- **os.path.join(path, filename)**: compose the path string and filename string using an appropriate operating system separator between the two (e.g., the / character for a Unix/Linux\n",
        "system, and the \\ character for Windows). It returns the string that represents the full path to the file."
      ]
    },
    {
      "cell_type": "code",
      "metadata": {
        "colab": {
          "base_uri": "https://localhost:8080/"
        },
        "id": "WlPiqnfw70B5",
        "outputId": "9608d5b9-aa96-4ac4-fcbf-3ae82a81a278"
      },
      "source": [
        "#If your run from google colab, you need to moun your local google drive\n",
        "from google.colab import drive\n",
        "drive.mount(\"/content/drive/\")\n",
        "\n"
      ],
      "execution_count": 117,
      "outputs": [
        {
          "output_type": "stream",
          "text": [
            "Mounted at /content/drive/\n"
          ],
          "name": "stdout"
        }
      ]
    },
    {
      "cell_type": "code",
      "metadata": {
        "colab": {
          "base_uri": "https://localhost:8080/"
        },
        "id": "RxW5eHVY8lbm",
        "outputId": "68ea767d-2c96-456c-bfa6-1675870343c3"
      },
      "source": [
        "import os.path\n",
        "\n",
        "def numFiles(dir_path):\n",
        "    if os.path.exists(dir_path)==False:\n",
        "        print(dir_path + ' does not exist')\n",
        "        return 0\n",
        "\n",
        "\n",
        "    if os.path.isfile(dir_path):\n",
        "        return 1\n",
        "    else:\n",
        "        result=1\n",
        "        for f in os.listdir(dir_path):\n",
        "            result+= numFiles(os.path.join(dir_path, f))\n",
        "        return result\n",
        "\n",
        "root='drive/My Drive/Colab Notebooks/EDA/prueba/'\n",
        "print('número de ficheros y directorios en \"{}\": {}'.format(root,numFiles(root)))"
      ],
      "execution_count": 118,
      "outputs": [
        {
          "output_type": "stream",
          "text": [
            "número de ficheros y directorios en \"drive/My Drive/Colab Notebooks/EDA/prueba/\": 8\n"
          ],
          "name": "stdout"
        }
      ]
    },
    {
      "cell_type": "code",
      "metadata": {
        "colab": {
          "base_uri": "https://localhost:8080/"
        },
        "id": "Y9UmtF2hBxbJ",
        "outputId": "16b77d0a-e7f2-4c58-c871-284170c92169"
      },
      "source": [
        "import os.path\n",
        "\n",
        "def getsize(dir_path):\n",
        "    if os.path.exists(dir_path)==False:\n",
        "        print(folder + ' does not exist')\n",
        "        return 0\n",
        "\n",
        "\n",
        "    if os.path.isfile(dir_path):\n",
        "        return os.path.getsize(dir_path)\n",
        "    else:\n",
        "        result=0\n",
        "        for f in os.listdir(dir_path):\n",
        "            result+= getsize(os.path.join(dir_path, f))\n",
        "        return result\n",
        "\n",
        "root='drive/My Drive/Colab Notebooks/EDA/prueba/'\n",
        "print('tamaño de \"{}\": {} KB'.format(root,getsize(root)))"
      ],
      "execution_count": 119,
      "outputs": [
        {
          "output_type": "stream",
          "text": [
            "tamaño de \"drive/My Drive/Colab Notebooks/EDA/prueba/\": 755 KB\n"
          ],
          "name": "stdout"
        }
      ]
    }
  ]
}
