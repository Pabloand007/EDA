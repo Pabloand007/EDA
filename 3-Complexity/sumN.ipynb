{
  "nbformat": 4,
  "nbformat_minor": 0,
  "metadata": {
    "colab": {
      "name": "sumN.ipynb",
      "provenance": [],
      "collapsed_sections": [],
      "include_colab_link": true
    },
    "kernelspec": {
      "name": "python3",
      "display_name": "Python 3"
    }
  },
  "cells": [
    {
      "cell_type": "markdown",
      "metadata": {
        "id": "view-in-github",
        "colab_type": "text"
      },
      "source": [
        "<a href=\"https://colab.research.google.com/github/isegura/EDA/blob/master/sumN.ipynb\" target=\"_parent\"><img src=\"https://colab.research.google.com/assets/colab-badge.svg\" alt=\"Open In Colab\"/></a>"
      ]
    },
    {
      "cell_type": "markdown",
      "metadata": {
        "id": "lmGPw4LZ1r_a"
      },
      "source": [
        "# Unit 3 - Analysis of algorithms\n",
        "\n",
        "Write a function, given a number n, that sums the numbers for 1 to n"
      ]
    },
    {
      "cell_type": "code",
      "metadata": {
        "id": "GbLVEG_IwIZj",
        "colab": {
          "base_uri": "https://localhost:8080/"
        },
        "outputId": "34624f76-a16d-47a9-c791-2335508d69ef"
      },
      "source": [
        "def sumN(n):\n",
        "  result=0\n",
        "  for i in range(1,n+1):\n",
        "    result+=i\n",
        "  return result\n",
        "\n",
        "\n",
        "print(\"sumN({})={}\".format(10,sumN(10)))\n",
        "print(\"sumN({})={}\".format(100,sumN(100)))"
      ],
      "execution_count": 1,
      "outputs": [
        {
          "output_type": "stream",
          "text": [
            "sumN(10)=55\n",
            "sumN(100)=5050\n"
          ],
          "name": "stdout"
        }
      ]
    },
    {
      "cell_type": "markdown",
      "metadata": {
        "id": "aKBiG0mPvuYU"
      },
      "source": [
        "Now, we measure the time. To do this, we use the function time(), which returns the current time in seconds.\n"
      ]
    },
    {
      "cell_type": "code",
      "metadata": {
        "id": "WHSbH8yGrp5x",
        "colab": {
          "base_uri": "https://localhost:8080/"
        },
        "outputId": "cb2acd30-fcfd-4317-fcda-b63584a26658"
      },
      "source": [
        "import time\n",
        "def sumN(n):\n",
        "    \"\"\"returns sum fron 1 to n and the execution time\"\"\"\n",
        "    start=time.time()\n",
        "    result=0\n",
        "    for i in range(1,n+1):\n",
        "        result+=i\n",
        "    end=time.time()\n",
        "    return result, (end-start)*1000\n",
        "\n",
        "result,t=sumN(10)\n",
        "print(\"sumN({})={} in {} ms\".format(10,result,t))\n",
        "result,t=sumN(100)\n",
        "print(\"sumN({})={} in {} ms\".format(100,result,t))\n"
      ],
      "execution_count": 6,
      "outputs": [
        {
          "output_type": "stream",
          "text": [
            "sumN(10)=55 in 0.00286102294921875 ms\n",
            "sumN(100)=5050 in 0.009775161743164062 ms\n"
          ],
          "name": "stdout"
        }
      ]
    },
    {
      "cell_type": "markdown",
      "metadata": {
        "id": "MO_25rCcxEUx"
      },
      "source": [
        "We run for several n to understand how the running time increases:"
      ]
    },
    {
      "cell_type": "code",
      "metadata": {
        "id": "z0F9RBx6smOZ",
        "colab": {
          "base_uri": "https://localhost:8080/"
        },
        "outputId": "2c0164d0-1960-45fb-df41-f973595a4fc6"
      },
      "source": [
        "import math\n",
        "for i in range(1,8):\n",
        "  n=pow(10,i)\n",
        "  result,ms=sumN(n)\n",
        "  #print(\"sumN({})={} in {} ms\".format(pow(10,i),result,ms))\n",
        "  print('{}\\t{}'.format(n,str(ms).replace('.',',')))"
      ],
      "execution_count": 8,
      "outputs": [
        {
          "output_type": "stream",
          "text": [
            "10\t0,0026226043701171875\n",
            "100\t0,010013580322265625\n",
            "1000\t0,08749961853027344\n",
            "10000\t0,8940696716308594\n",
            "100000\t11,202573776245117\n",
            "1000000\t62,67952919006348\n",
            "10000000\t592,4971103668213\n"
          ],
          "name": "stdout"
        }
      ]
    },
    {
      "cell_type": "markdown",
      "metadata": {
        "id": "bBZ3-aS5xfjL"
      },
      "source": [
        "## Gauss Sum\n",
        "\n",
        "We now study a more efficient way to sum the numbers from 1 to N. We will use the gauss sum\n",
        "\n",
        "<img src='https://i.ytimg.com/vi/gp9jNcnvheI/maxresdefault.jpg' width=\"200\">\n"
      ]
    },
    {
      "cell_type": "code",
      "metadata": {
        "id": "rlgsMqCCy4HK"
      },
      "source": [
        "def sum_gauss(n):\n",
        "    return n*(n+1)/2\n",
        "    "
      ],
      "execution_count": null,
      "outputs": []
    },
    {
      "cell_type": "markdown",
      "metadata": {
        "id": "g-5lCMODzAoC"
      },
      "source": [
        "Let us to measure the running time for this function"
      ]
    },
    {
      "cell_type": "code",
      "metadata": {
        "id": "SmXbH82NrbX2",
        "colab": {
          "base_uri": "https://localhost:8080/"
        },
        "outputId": "fceae4a8-3bbc-46dc-e107-4b4b1432edb3"
      },
      "source": [
        "import time\n",
        "import math\n",
        "\n",
        "def sumNGauss(n):\n",
        "  start=time.time()\n",
        "  result=n*(n+1)/2\n",
        "  end=time.time()\n",
        "  return result,(end-start)*1000\n",
        "\n",
        "print('n\\tms')\n",
        "for i in range(1,8):\n",
        "  n=pow(10,i)\n",
        "  result,ms=sumNGauss(n)\n",
        "  #print(\"sumN({})={} in {} ms\".format(pow(10,i),result,ms))\n",
        "\n",
        "  print('{}\\t\\t{}'.format(n,ms))"
      ],
      "execution_count": 10,
      "outputs": [
        {
          "output_type": "stream",
          "text": [
            "n\tms\n",
            "10\t\t0.0016689300537109375\n",
            "100\t\t0.00095367431640625\n",
            "1000\t\t0.00095367431640625\n",
            "10000\t\t0.0007152557373046875\n",
            "100000\t\t0.0007152557373046875\n",
            "1000000\t\t0.0007152557373046875\n",
            "10000000\t\t0.00095367431640625\n"
          ],
          "name": "stdout"
        }
      ]
    },
    {
      "cell_type": "code",
      "metadata": {
        "id": "FF0yz7MXUOVi",
        "colab": {
          "base_uri": "https://localhost:8080/"
        },
        "outputId": "ec87e677-b5e2-4d67-cb24-5cab8fe22567"
      },
      "source": [
        "\n",
        "for i in range(1,8):\n",
        "  n=pow(10,i)\n",
        "  result1,msN=sumN(n)\n",
        "  result2,msGauss=sumNGauss(n)\n",
        "  print('{}\\t{}\\t{}'.format(n,str(msN).replace('.',','),str(msGauss).replace('.',',')))"
      ],
      "execution_count": 16,
      "outputs": [
        {
          "output_type": "stream",
          "text": [
            "10\t0,002384185791015625\t0,0019073486328125\n",
            "100\t0,009059906005859375\t0,0011920928955078125\n",
            "1000\t0,08368492126464844\t0,00095367431640625\n",
            "10000\t0,8442401885986328\t0,001430511474609375\n",
            "100000\t10,459423065185547\t0,002384185791015625\n",
            "1000000\t58,66837501525879\t0,00286102294921875\n",
            "10000000\t587,3851776123047\t0,0035762786865234375\n"
          ],
          "name": "stdout"
        }
      ]
    },
    {
      "cell_type": "markdown",
      "metadata": {
        "id": "4L6jXk4UzE7I"
      },
      "source": [
        "Now, you can copy this output into a txt file and then, import it into an excel file to create a scarter graph.\n"
      ]
    }
  ]
}
