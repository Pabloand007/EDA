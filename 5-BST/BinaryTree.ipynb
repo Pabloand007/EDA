{
  "nbformat": 4,
  "nbformat_minor": 0,
  "metadata": {
    "colab": {
      "name": "BinaryTree.ipynb",
      "provenance": [],
      "collapsed_sections": [],
      "include_colab_link": true
    },
    "kernelspec": {
      "name": "python3",
      "display_name": "Python 3"
    }
  },
  "cells": [
    {
      "cell_type": "markdown",
      "metadata": {
        "id": "view-in-github",
        "colab_type": "text"
      },
      "source": [
        "<a href=\"https://colab.research.google.com/github/isegura/EDA/blob/master/BinaryTree.ipynb\" target=\"_parent\"><img src=\"https://colab.research.google.com/assets/colab-badge.svg\" alt=\"Open In Colab\"/></a>"
      ]
    },
    {
      "cell_type": "markdown",
      "metadata": {
        "id": "MFnhC5wWRy59"
      },
      "source": [
        "# Binary Trees\n"
      ]
    },
    {
      "cell_type": "code",
      "metadata": {
        "id": "qq7tL3eARwO6"
      },
      "source": [
        "import queue #it is Python module to implement queues\n",
        "#from queue import SQueue\n",
        "\n",
        "class Node:\n",
        "  def __init__(self,elem,left=None,right=None,parent=None):\n",
        "    self.elem=elem\n",
        "    self.left=left\n",
        "    self.right=right\n",
        "    self.parent=parent\n",
        "    \n",
        "    \n",
        "class BinaryTree:\n",
        "  \n",
        "  def __init__(self):\n",
        "    self._root=None\n",
        "\n",
        "  def size(self):\n",
        "    \"\"\"Returns the number of nodes\"\"\"\n",
        "    return self._size(self._root)\n",
        "\n",
        "  def _size(self,node):\n",
        "    \"función recursiva de vuelve el tamaño de node\"\n",
        "    if node==None:\n",
        "      return 0\n",
        "      \n",
        "    return 1 + self._size(node.left) + self._size(node.right)\n",
        "\n",
        "  def height(self):\n",
        "    \"\"\"Returns the height of the tree\"\"\"\n",
        "    return self._height(self._root)\n",
        "  \n",
        "  def _height(self,node):\n",
        "    \"función recursiva que devuelva la altura del nodo\"\n",
        "    if node==None:\n",
        "      return -1\n",
        "\n",
        "    return 1 + max(self._height(node.left),self._height(node.right))\n",
        "\n",
        "  \n",
        "  def depth(self,node):\n",
        "    if node==None:\n",
        "      return 0\n",
        "\n",
        "    if node.parent==None: \n",
        "      #node==self._root\n",
        "      return 0\n",
        "    \n",
        "    return 1 + self.depth(node.parent)\n",
        "\n",
        "  def preorder(self):\n",
        "    self._preorder(self._root)\n",
        "    \n",
        "  def _preorder(self,node):\n",
        "    if node!=None:\n",
        "      print(node.elem)\n",
        "      self._preorder(node.left)\n",
        "      self._preorder(node.right)\n",
        "\n",
        "      \n",
        "  def postorder(self):\n",
        "    self._postorder(self._root)\n",
        "    \n",
        "  def _postorder(self,node):\n",
        "    if node!=None:\n",
        "      self._postorder(node.left)\n",
        "      self._postorder(node.right)\n",
        "      print(node.elem)\n",
        "      \n",
        "  def inorder(self):\n",
        "    self._inorder(self._root)\n",
        "\n",
        "  def _inorder(self,node):\n",
        "    if node!=None:\n",
        "      self._inorder(node.left)\n",
        "      print(node.elem)\n",
        "      self._inorder(node.right)\n",
        "     \n",
        "  def levelorder(self):\n",
        "    if self._root==None:\n",
        "      print('tree is empty')\n",
        "      return\n",
        "    \n",
        "    q=queue.Queue()\n",
        "    q.put(self.root) #enqueue: we save the root\n",
        "    \n",
        "    while q.empty()==False:\n",
        "      current=q.get() #dequeue\n",
        "      print(current.elem)\n",
        "      if current.left!=None:\n",
        "        q.put(current.left)\n",
        "      if current.right!=None:\n",
        "        q.put(current.right)\n",
        "          \n",
        "      "
      ],
      "execution_count": 1,
      "outputs": []
    }
  ]
}
